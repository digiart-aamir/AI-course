{
 "cells": [
  {
   "cell_type": "markdown",
   "id": "9bfae0b9",
   "metadata": {},
   "source": [
    "# Ploymorphisam in OOP\n",
    "\n",
    "* method overloading "
   ]
  },
  {
   "cell_type": "code",
   "execution_count": 8,
   "id": "d6b0a02f",
   "metadata": {},
   "outputs": [],
   "source": [
    "class math:\n",
    "    def sub(self,a,b,c=0):\n",
    "        return a-b-c\n",
    "    "
   ]
  },
  {
   "cell_type": "code",
   "execution_count": 9,
   "id": "e6a3a263",
   "metadata": {},
   "outputs": [],
   "source": [
    "sub = math()"
   ]
  },
  {
   "cell_type": "code",
   "execution_count": 10,
   "id": "dbca8af8",
   "metadata": {},
   "outputs": [
    {
     "data": {
      "text/plain": [
       "2"
      ]
     },
     "execution_count": 10,
     "metadata": {},
     "output_type": "execute_result"
    }
   ],
   "source": [
    "sub.sub(7,5)"
   ]
  },
  {
   "cell_type": "code",
   "execution_count": 11,
   "id": "ddf3eb1b",
   "metadata": {},
   "outputs": [
    {
     "data": {
      "text/plain": [
       "2"
      ]
     },
     "execution_count": 11,
     "metadata": {},
     "output_type": "execute_result"
    }
   ],
   "source": [
    "sub.sub(6,3,1)"
   ]
  },
  {
   "cell_type": "markdown",
   "id": "245890f6",
   "metadata": {},
   "source": [
    "## another example"
   ]
  },
  {
   "cell_type": "code",
   "execution_count": 4,
   "id": "69404393",
   "metadata": {},
   "outputs": [],
   "source": [
    "class animal:\n",
    "    def speak(self):\n",
    "        print(\"animal speak\")\n",
    "        \n",
    "class dog(animal):\n",
    "    def speak(self):\n",
    "        print(\"dog bark\")\n",
    "        \n",
    "class cat(animal):\n",
    "    def speak(self):\n",
    "        print(\"car meow\")\n",
    "        \n",
    "        \n",
    "class hen(animal):\n",
    "    pass"
   ]
  },
  {
   "cell_type": "code",
   "execution_count": 5,
   "id": "604acdd3",
   "metadata": {},
   "outputs": [],
   "source": [
    "dog = dog()\n",
    "cat = cat()\n",
    "hen = hen()"
   ]
  },
  {
   "cell_type": "code",
   "execution_count": 6,
   "id": "13cbb1ec",
   "metadata": {},
   "outputs": [
    {
     "name": "stdout",
     "output_type": "stream",
     "text": [
      "dog bark\n"
     ]
    }
   ],
   "source": [
    "dog.speak()"
   ]
  },
  {
   "cell_type": "code",
   "execution_count": 7,
   "id": "4c21f50e",
   "metadata": {},
   "outputs": [
    {
     "name": "stdout",
     "output_type": "stream",
     "text": [
      "car meow\n"
     ]
    }
   ],
   "source": [
    "cat.speak()"
   ]
  },
  {
   "cell_type": "code",
   "execution_count": 8,
   "id": "a6f777df",
   "metadata": {},
   "outputs": [
    {
     "name": "stdout",
     "output_type": "stream",
     "text": [
      "animal speak\n"
     ]
    }
   ],
   "source": [
    "hen.speak()"
   ]
  },
  {
   "cell_type": "markdown",
   "id": "2fbdbcb6",
   "metadata": {},
   "source": [
    "# task 2"
   ]
  },
  {
   "cell_type": "code",
   "execution_count": 27,
   "id": "075719f9",
   "metadata": {},
   "outputs": [],
   "source": [
    "class employee:\n",
    "    def get_sallery(self):\n",
    "        print(\"here is the sallery from parent class\")\n",
    "\n",
    "class partTime(employee):\n",
    "    def get_sallery(self):\n",
    "        print(\"here is the sallery from child class\")\n",
    "        \n",
    "class fullTime(employee):\n",
    "    pass"
   ]
  },
  {
   "cell_type": "code",
   "execution_count": 28,
   "id": "3383cd03",
   "metadata": {},
   "outputs": [],
   "source": [
    "aamir, ali = partTime(), fullTime()"
   ]
  },
  {
   "cell_type": "code",
   "execution_count": 29,
   "id": "4ec6a5f7",
   "metadata": {},
   "outputs": [
    {
     "name": "stdout",
     "output_type": "stream",
     "text": [
      "here is the sallery from child class\n"
     ]
    }
   ],
   "source": [
    "aamir.get_sallery()"
   ]
  },
  {
   "cell_type": "code",
   "execution_count": 30,
   "id": "901accfc",
   "metadata": {},
   "outputs": [
    {
     "name": "stdout",
     "output_type": "stream",
     "text": [
      "here is the sallery from parent class\n"
     ]
    }
   ],
   "source": [
    "ali.get_sallery()"
   ]
  }
 ],
 "metadata": {
  "kernelspec": {
   "display_name": "Python 3 (ipykernel)",
   "language": "python",
   "name": "python3"
  },
  "language_info": {
   "codemirror_mode": {
    "name": "ipython",
    "version": 3
   },
   "file_extension": ".py",
   "mimetype": "text/x-python",
   "name": "python",
   "nbconvert_exporter": "python",
   "pygments_lexer": "ipython3",
   "version": "3.11.3"
  }
 },
 "nbformat": 4,
 "nbformat_minor": 5
}
