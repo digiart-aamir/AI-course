{
 "cells": [
  {
   "cell_type": "markdown",
   "id": "637690f9",
   "metadata": {},
   "source": [
    "## task 1 oop"
   ]
  },
  {
   "cell_type": "code",
   "execution_count": 34,
   "id": "25245ef6",
   "metadata": {},
   "outputs": [],
   "source": [
    "# create a class \n",
    "class book:\n",
    "    \n",
    "    #create functions inside the book\n",
    "    def display(self):\n",
    "        print(f\"Book name is {self.name} and Author name is {self.author}\")"
   ]
  },
  {
   "cell_type": "code",
   "execution_count": 35,
   "id": "d3d2edf7",
   "metadata": {},
   "outputs": [],
   "source": [
    "# object creation\n",
    "book1 = book()"
   ]
  },
  {
   "cell_type": "code",
   "execution_count": 36,
   "id": "1b069e00",
   "metadata": {},
   "outputs": [],
   "source": [
    "# Intialize \n",
    "book1.name, book1.author = \"Brief History of time\", \"Stephen hawking\""
   ]
  },
  {
   "cell_type": "code",
   "execution_count": 37,
   "id": "038e3e72",
   "metadata": {},
   "outputs": [
    {
     "name": "stdout",
     "output_type": "stream",
     "text": [
      "Book name is Brief History of time and Author name is Stephen hawking\n"
     ]
    }
   ],
   "source": [
    "# call the function for class\n",
    "book1.display()"
   ]
  },
  {
   "cell_type": "markdown",
   "id": "c7b03595",
   "metadata": {},
   "source": [
    "### another object"
   ]
  },
  {
   "cell_type": "code",
   "execution_count": 30,
   "id": "3ef3c65c",
   "metadata": {},
   "outputs": [
    {
     "name": "stdout",
     "output_type": "stream",
     "text": [
      "Book name is Baang e dra and Author name is Alama Iqbal\n"
     ]
    }
   ],
   "source": [
    "book2 = book()\n",
    "book2.name, book2.author = \"Baang e dra\", \"Alama Iqbal\"\n",
    "\n",
    "book2.display()"
   ]
  },
  {
   "cell_type": "markdown",
   "id": "5c0fcc3b",
   "metadata": {},
   "source": [
    "# class "
   ]
  },
  {
   "cell_type": "code",
   "execution_count": 58,
   "id": "e75929c0",
   "metadata": {},
   "outputs": [],
   "source": [
    "# create a class\n",
    "\n",
    "class car:\n",
    "    \n",
    "    def __init__(self,model, color, year, brand):\n",
    "        self.model = model\n",
    "        self.color = color\n",
    "        self.year = year\n",
    "        self.brand = brand \n",
    "        \n",
    "    def __str__(self):\n",
    "        return f\"Model = {self.model} \\n Color = {self.color}\\n Year = {self.year} \\n brand = {self.year}\""
   ]
  },
  {
   "cell_type": "code",
   "execution_count": 59,
   "id": "7c2de73f",
   "metadata": {},
   "outputs": [],
   "source": [
    "# object create and initalize\n",
    "civic = car(\"civic\", \"red\", \"2023\", \"honda\")"
   ]
  },
  {
   "cell_type": "code",
   "execution_count": 60,
   "id": "7ce67ed1",
   "metadata": {},
   "outputs": [
    {
     "name": "stdout",
     "output_type": "stream",
     "text": [
      "Model = civic \n",
      " Color = red\n",
      " Year = 2023 \n",
      " brand = 2023\n"
     ]
    }
   ],
   "source": [
    "print(civic)"
   ]
  },
  {
   "cell_type": "markdown",
   "id": "02f7f19c",
   "metadata": {},
   "source": [
    "## inheritance example"
   ]
  },
  {
   "cell_type": "markdown",
   "id": "e425655d",
   "metadata": {},
   "source": [
    "parent class"
   ]
  },
  {
   "cell_type": "code",
   "execution_count": 103,
   "id": "5b505ff1",
   "metadata": {},
   "outputs": [],
   "source": [
    "class accesories:\n",
    "    \n",
    "    def __init__(self, a_type):\n",
    "        self.a_type= a_type\n",
    "    \n",
    "    \n",
    "    def print_type(self):\n",
    "        print(f\"type of accesory is {self.a_type}\")"
   ]
  },
  {
   "cell_type": "markdown",
   "id": "e2a90915",
   "metadata": {},
   "source": [
    "child class"
   ]
  },
  {
   "cell_type": "code",
   "execution_count": 104,
   "id": "8f9f42f2",
   "metadata": {},
   "outputs": [],
   "source": [
    "# create a class\n",
    "\n",
    "class car(accesories):\n",
    "    \n",
    "    def __init__(self,model, color, year, brand, a_type):\n",
    "        super().__init__(a_type)\n",
    "        self.model = model\n",
    "        self.color = color\n",
    "        self.year = year\n",
    "        self.brand = brand \n",
    "        \n",
    "    def __str__(self):\n",
    "        return f\"Model = {self.model} \\n Color = {self.color}\\n Year = {self.year} \\n brand = {self.year}\""
   ]
  },
  {
   "cell_type": "markdown",
   "id": "c241478b",
   "metadata": {},
   "source": [
    "object of child class"
   ]
  },
  {
   "cell_type": "code",
   "execution_count": 105,
   "id": "11c00c6c",
   "metadata": {},
   "outputs": [],
   "source": [
    "# object create and initalize\n",
    "civic = car(\"civic\", \"red\", \"2023\", \"honda\", \"machine\")"
   ]
  },
  {
   "cell_type": "code",
   "execution_count": 106,
   "id": "776fb680",
   "metadata": {},
   "outputs": [
    {
     "name": "stdout",
     "output_type": "stream",
     "text": [
      "Model = civic \n",
      " Color = red\n",
      " Year = 2023 \n",
      " brand = 2023\n"
     ]
    }
   ],
   "source": [
    "print(civic)"
   ]
  },
  {
   "cell_type": "code",
   "execution_count": 107,
   "id": "543e6ca4",
   "metadata": {},
   "outputs": [
    {
     "name": "stdout",
     "output_type": "stream",
     "text": [
      "type of accesory is machine\n"
     ]
    }
   ],
   "source": [
    "civic.print_type()"
   ]
  },
  {
   "cell_type": "markdown",
   "id": "a15f2a1d",
   "metadata": {},
   "source": [
    "# multi level inhertiace"
   ]
  },
  {
   "cell_type": "markdown",
   "id": "26364f96",
   "metadata": {},
   "source": [
    "parent class"
   ]
  },
  {
   "cell_type": "code",
   "execution_count": 108,
   "id": "67792aa1",
   "metadata": {},
   "outputs": [],
   "source": [
    "class accesories:\n",
    "    \n",
    "    def __init__(self, a_type):\n",
    "        self.a_type= a_type\n",
    "    \n",
    "    \n",
    "    def print_type(self):\n",
    "        print(f\"type of accesory is {self.a_type}\")"
   ]
  },
  {
   "cell_type": "markdown",
   "id": "fb0e4389",
   "metadata": {},
   "source": [
    "child class"
   ]
  },
  {
   "cell_type": "code",
   "execution_count": 109,
   "id": "3ccaa03a",
   "metadata": {},
   "outputs": [],
   "source": [
    "# create a class\n",
    "\n",
    "class car(accesories):\n",
    "    \n",
    "    def __init__(self,model, color, year, brand, a_type):\n",
    "        super().__init__(a_type)\n",
    "        self.model = model\n",
    "        self.color = color\n",
    "        self.year = year\n",
    "        self.brand = brand \n",
    "        \n",
    "    def __str__(self):\n",
    "        return f\"Model = {self.model} \\n Color = {self.color}\\n Year = {self.year} \\n brand = {self.year}\""
   ]
  },
  {
   "cell_type": "markdown",
   "id": "c2586790",
   "metadata": {},
   "source": [
    "grandson class"
   ]
  },
  {
   "cell_type": "code",
   "execution_count": 116,
   "id": "63d695f1",
   "metadata": {},
   "outputs": [],
   "source": [
    "\n",
    "class engine(car):\n",
    "    \n",
    "    def __init__(self,model, color, year, brand, a_type, engine_size):\n",
    "        super().__init__(model, color, year,brand, a_type)\n",
    "        self.engine_size = engine_size\n",
    "        \n",
    "    def engine_size(self):\n",
    "        print(\"size of engine is\", self.engine_size)"
   ]
  },
  {
   "cell_type": "markdown",
   "id": "0e4dd168",
   "metadata": {},
   "source": [
    "make a engine object and use all parent classes"
   ]
  },
  {
   "cell_type": "code",
   "execution_count": 120,
   "id": "d4f34699",
   "metadata": {},
   "outputs": [],
   "source": [
    "civic = engine(\"civic\", \"red\", \"2023\", \"honda\", \"machine_car\", \"1200cc\")"
   ]
  },
  {
   "cell_type": "code",
   "execution_count": 121,
   "id": "82b10477",
   "metadata": {},
   "outputs": [
    {
     "name": "stdout",
     "output_type": "stream",
     "text": [
      "type of accesory is machine_car\n"
     ]
    }
   ],
   "source": [
    "civic.print_type()"
   ]
  },
  {
   "cell_type": "code",
   "execution_count": null,
   "id": "d7f1001e",
   "metadata": {},
   "outputs": [],
   "source": []
  }
 ],
 "metadata": {
  "kernelspec": {
   "display_name": "Python 3 (ipykernel)",
   "language": "python",
   "name": "python3"
  },
  "language_info": {
   "codemirror_mode": {
    "name": "ipython",
    "version": 3
   },
   "file_extension": ".py",
   "mimetype": "text/x-python",
   "name": "python",
   "nbconvert_exporter": "python",
   "pygments_lexer": "ipython3",
   "version": "3.11.3"
  }
 },
 "nbformat": 4,
 "nbformat_minor": 5
}
