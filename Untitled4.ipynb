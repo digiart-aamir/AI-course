{
 "cells": [
  {
   "cell_type": "code",
   "execution_count": 1,
   "id": "4d682edc",
   "metadata": {},
   "outputs": [
    {
     "name": "stdout",
     "output_type": "stream",
     "text": [
      "Structured Data Example: {'ID': 1, 'Name': 'Alice', 'Age': 30, 'Salary': 70000}\n",
      "Unstructured Data Example: A blog post about Python.\n"
     ]
    }
   ],
   "source": [
    "structured_data = [\n",
    "    {\"ID\": 1, \"Name\": \"Alice\", \"Age\": 30, \"Salary\": 70000},\n",
    "    {\"ID\": 2, \"Name\": \"Bob\", \"Age\": 25, \"Salary\": 50000},\n",
    "    {\"ID\": 3, \"Name\": \"Charlie\", \"Age\": 35, \"Salary\": 80000}\n",
    "]\n",
    "\n",
    "unstructured_data = [\n",
    "    \"This is an email content.\",\n",
    "    \"A blog post about Python.\",\n",
    "    \"Image data: [image binary data]\",\n",
    "    \"Video data: [video binary data]\"\n",
    "]\n",
    "\n",
    "print(\"Structured Data Example:\", structured_data[0])\n",
    "print(\"Unstructured Data Example:\", unstructured_data[1])\n"
   ]
  },
  {
   "cell_type": "code",
   "execution_count": 2,
   "id": "ed391124",
   "metadata": {},
   "outputs": [
    {
     "name": "stdout",
     "output_type": "stream",
     "text": [
      "Height: 175.5 cm\n",
      "Weight: 70.2 kg\n",
      "Number of students: 30\n",
      "Number of cars: 12\n"
     ]
    }
   ],
   "source": [
    "height = 175.5  # Height in centimeters\n",
    "weight = 70.2   # Weight in kilograms\n",
    "num_students = 30  # Number of students\n",
    "num_cars = 12      # Number of cars\n",
    "\n",
    "print(f\"Height: {height} cm\")\n",
    "print(f\"Weight: {weight} kg\")\n",
    "print(f\"Number of students: {num_students}\")\n",
    "print(f\"Number of cars: {num_cars}\")\n"
   ]
  },
  {
   "cell_type": "code",
   "execution_count": 3,
   "id": "739ba22f",
   "metadata": {},
   "outputs": [
    {
     "name": "stdout",
     "output_type": "stream",
     "text": [
      "Hi, Alice!\n",
      "Good morning, Bob!\n",
      "Hello, Charlie!\n"
     ]
    }
   ],
   "source": [
    "def greet(name, greeting=\"Hello\"):\n",
    "    print(f\"{greeting}, {name}!\")\n",
    "\n",
    "greet(name=\"Alice\", greeting=\"Hi\")\n",
    "greet(greeting=\"Good morning\", name=\"Bob\")\n",
    "greet(name=\"Charlie\")\n"
   ]
  },
  {
   "cell_type": "code",
   "execution_count": 4,
   "id": "7490b371",
   "metadata": {},
   "outputs": [
    {
     "name": "stdout",
     "output_type": "stream",
     "text": [
      "name: Alice\n",
      "age: 30\n",
      "city: New York\n"
     ]
    }
   ],
   "source": [
    "def display_info(**kwargs):\n",
    "    for key, value in kwargs.items():\n",
    "        print(f\"{key}: {value}\")\n",
    "\n",
    "display_info(name=\"Alice\", age=30, city=\"New York\")\n"
   ]
  },
  {
   "cell_type": "code",
   "execution_count": 5,
   "id": "0260e4f1",
   "metadata": {},
   "outputs": [
    {
     "name": "stdout",
     "output_type": "stream",
     "text": [
      "a: 1\n",
      "args: (2, 3)\n",
      "kwargs: {'x': 4, 'y': 5}\n"
     ]
    }
   ],
   "source": [
    "def combined_example(a, *args, **kwargs):\n",
    "    print(f\"a: {a}\")\n",
    "    print(f\"args: {args}\")\n",
    "    print(f\"kwargs: {kwargs}\")\n",
    "\n",
    "combined_example(1, 2, 3, x=4, y=5)\n"
   ]
  },
  {
   "cell_type": "code",
   "execution_count": 6,
   "id": "fab06aab",
   "metadata": {},
   "outputs": [
    {
     "name": "stdout",
     "output_type": "stream",
     "text": [
      "Name of second entry: Bob\n",
      "Salary of third entry: 80000\n"
     ]
    }
   ],
   "source": [
    "structured_data = [\n",
    "    {\"ID\": 1, \"Name\": \"Alice\", \"Age\": 30, \"Salary\": 70000},\n",
    "    {\"ID\": 2, \"Name\": \"Bob\", \"Age\": 25, \"Salary\": 50000},\n",
    "    {\"ID\": 3, \"Name\": \"Charlie\", \"Age\": 35, \"Salary\": 80000}\n",
    "]\n",
    "\n",
    "print(\"Name of second entry:\", structured_data[1][\"Name\"])\n",
    "print(\"Salary of third entry:\", structured_data[2][\"Salary\"])\n"
   ]
  },
  {
   "cell_type": "code",
   "execution_count": 7,
   "id": "b7004aa4",
   "metadata": {},
   "outputs": [
    {
     "name": "stdout",
     "output_type": "stream",
     "text": [
      "Name of second entry: Bob\n",
      "Salary of third entry: 80000\n"
     ]
    }
   ],
   "source": [
    "structured_data = [\n",
    "    {\"ID\": 1, \"Name\": \"Alice\", \"Age\": 30, \"Salary\": 70000},\n",
    "    {\"ID\": 2, \"Name\": \"Bob\", \"Age\": 25, \"Salary\": 50000},\n",
    "    {\"ID\": 3, \"Name\": \"Charlie\", \"Age\": 35, \"Salary\": 80000}\n",
    "]\n",
    "\n",
    "print(\"Name of second entry:\", structured_data[1][\"Name\"])\n",
    "print(\"Salary of third entry:\", structured_data[2][\"Salary\"])\n"
   ]
  },
  {
   "cell_type": "code",
   "execution_count": 8,
   "id": "856c3027",
   "metadata": {},
   "outputs": [
    {
     "name": "stdout",
     "output_type": "stream",
     "text": [
      "Height1: 175.5 cm\n",
      "Height2: 160.2 cm\n",
      "Average Height: 167.85 cm\n"
     ]
    }
   ],
   "source": [
    "height1 = 175.5  # Height in centimeters\n",
    "height2 = 160.2  # Another height in centimeters\n",
    "average_height = (height1 + height2) / 2\n",
    "\n",
    "print(f\"Height1: {height1} cm\")\n",
    "print(f\"Height2: {height2} cm\")\n",
    "print(f\"Average Height: {average_height} cm\")\n"
   ]
  },
  {
   "cell_type": "code",
   "execution_count": 9,
   "id": "b1b7af5c",
   "metadata": {},
   "outputs": [
    {
     "name": "stdout",
     "output_type": "stream",
     "text": [
      "Name: Alice, Age: 18, City: Unknown\n",
      "Name: Bob, Age: 25, City: Unknown\n",
      "Name: Charlie, Age: 18, City: New York\n"
     ]
    }
   ],
   "source": [
    "def introduce(name, age=18, city=\"Unknown\"):\n",
    "    print(f\"Name: {name}, Age: {age}, City: {city}\")\n",
    "\n",
    "introduce(name=\"Alice\")\n",
    "introduce(name=\"Bob\", age=25)\n",
    "introduce(name=\"Charlie\", city=\"New York\")\n"
   ]
  },
  {
   "cell_type": "code",
   "execution_count": 10,
   "id": "95346175",
   "metadata": {},
   "outputs": [
    {
     "name": "stdout",
     "output_type": "stream",
     "text": [
      "Name: Alice, Age: 18, City: Unknown\n",
      "Name: Bob, Age: 25, City: Unknown\n",
      "Name: Charlie, Age: 18, City: New York\n"
     ]
    }
   ],
   "source": [
    "def introduce(name, age=18, city=\"Unknown\"):\n",
    "    print(f\"Name: {name}, Age: {age}, City: {city}\")\n",
    "\n",
    "introduce(name=\"Alice\")\n",
    "introduce(name=\"Bob\", age=25)\n",
    "introduce(name=\"Charlie\", city=\"New York\")\n"
   ]
  },
  {
   "cell_type": "code",
   "execution_count": 11,
   "id": "9afbb4f7",
   "metadata": {},
   "outputs": [
    {
     "name": "stdout",
     "output_type": "stream",
     "text": [
      "a: 1\n",
      "args: (2, 3, 4)\n",
      "kwargs: {'x': 5, 'y': 6, 'z': 7}\n"
     ]
    }
   ],
   "source": [
    "def describe_person(**kwargs):\n",
    "    for key, value in kwargs.items():\n",
    "        print(f\"{key.capitalize()}: {value}\")\n",
    "\n",
    "def complete_example(a, *args, **kwargs):\n",
    "    print(f\"a: {a}\")\n",
    "    print(f\"args: {args}\")\n",
    "    print(f\"kwargs: {kwargs}\")\n",
    "\n",
    "complete_example(1, 2, 3, 4, x=5, y=6, z=7)\n"
   ]
  },
  {
   "cell_type": "code",
   "execution_count": 12,
   "id": "be25e240",
   "metadata": {},
   "outputs": [
    {
     "name": "stdout",
     "output_type": "stream",
     "text": [
      "a: 1, b: 2, c: 3\n",
      "a: 1, b: 10, c: 3\n",
      "a: 1, b: 2, c: 20\n",
      "a: 5, b: 15, c: 25\n"
     ]
    }
   ],
   "source": [
    "def example_function(a, b=2, c=3):\n",
    "    print(f\"a: {a}, b: {b}, c: {c}\")\n",
    "\n",
    "example_function(1)  # Output: a: 1, b: 2, c: 3\n",
    "example_function(1, b=10)  # Output: a: 1, b: 10, c: 3\n",
    "example_function(1, c=20)  # Output: a: 1, b: 2, c: 20\n",
    "example_function(a=5, b=15, c=25)  # Output: a: 5, b: 15, c: 25\n"
   ]
  },
  {
   "cell_type": "code",
   "execution_count": 13,
   "id": "a3f6bb86",
   "metadata": {},
   "outputs": [
    {
     "name": "stdout",
     "output_type": "stream",
     "text": [
      "Person(name='Alice', age=30, city='New York')\n"
     ]
    }
   ],
   "source": [
    "from dataclasses import dataclass\n",
    "\n",
    "@dataclass\n",
    "class Person:\n",
    "    name: str\n",
    "    age: int\n",
    "    city: str\n",
    "\n",
    "person1 = Person(name=\"Alice\", age=30, city=\"New York\")\n",
    "print(person1)\n"
   ]
  },
  {
   "cell_type": "code",
   "execution_count": 14,
   "id": "1acfc85e",
   "metadata": {},
   "outputs": [
    {
     "name": "stdout",
     "output_type": "stream",
     "text": [
      "Person(name='Alice', age=30, city='Unknown')\n",
      "Person(name='Bob', age=25, city='Los Angeles')\n"
     ]
    }
   ],
   "source": [
    "from dataclasses import dataclass\n",
    "\n",
    "@dataclass\n",
    "class Person:\n",
    "    name: str\n",
    "    age: int\n",
    "    city: str = \"Unknown\"\n",
    "\n",
    "person1 = Person(name=\"Alice\", age=30)\n",
    "person2 = Person(name=\"Bob\", age=25, city=\"Los Angeles\")\n",
    "\n",
    "print(person1)\n",
    "print(person2)\n"
   ]
  },
  {
   "cell_type": "code",
   "execution_count": 15,
   "id": "a748e369",
   "metadata": {},
   "outputs": [
    {
     "name": "stdout",
     "output_type": "stream",
     "text": [
      "Rectangle: Rectangle(width=10.0, height=5.0)\n",
      "Area: 50.0\n"
     ]
    }
   ],
   "source": [
    "from dataclasses import dataclass\n",
    "\n",
    "@dataclass\n",
    "class Rectangle:\n",
    "    width: float\n",
    "    height: float\n",
    "\n",
    "    def area(self) -> float:\n",
    "        return self.width * self.height\n",
    "\n",
    "rect = Rectangle(width=10.0, height=5.0)\n",
    "print(f\"Rectangle: {rect}\")\n",
    "print(f\"Area: {rect.area()}\")\n"
   ]
  },
  {
   "cell_type": "code",
   "execution_count": 16,
   "id": "3aba40d7",
   "metadata": {},
   "outputs": [
    {
     "name": "stdout",
     "output_type": "stream",
     "text": [
      "Point(x=1, y=2)\n"
     ]
    }
   ],
   "source": [
    "from dataclasses import dataclass\n",
    "\n",
    "@dataclass(frozen=True)\n",
    "class Point:\n",
    "    x: int\n",
    "    y: int\n",
    "\n",
    "point = Point(x=1, y=2)\n",
    "print(point)\n"
   ]
  },
  {
   "cell_type": "code",
   "execution_count": 17,
   "id": "654ed018",
   "metadata": {},
   "outputs": [
    {
     "name": "stdout",
     "output_type": "stream",
     "text": [
      "True\n",
      "False\n"
     ]
    }
   ],
   "source": [
    "from dataclasses import dataclass\n",
    "\n",
    "@dataclass\n",
    "class Point:\n",
    "    x: int\n",
    "    y: int\n",
    "\n",
    "point1 = Point(x=10, y=20)\n",
    "point2 = Point(x=10, y=20)\n",
    "point3 = Point(x=5, y=15)\n",
    "\n",
    "print(point1 == point2)\n",
    "print(point1 == point3)\n"
   ]
  },
  {
   "cell_type": "code",
   "execution_count": 18,
   "id": "ad342ce8",
   "metadata": {},
   "outputs": [
    {
     "name": "stdout",
     "output_type": "stream",
     "text": [
      "Car(make='Toyota', model='Camry', seats=5)\n"
     ]
    }
   ],
   "source": [
    "from dataclasses import dataclass\n",
    "\n",
    "@dataclass\n",
    "class Vehicle:\n",
    "    make: str\n",
    "    model: str\n",
    "\n",
    "@dataclass\n",
    "class Car(Vehicle):\n",
    "    seats: int\n",
    "\n",
    "car = Car(make=\"Toyota\", model=\"Camry\", seats=5)\n",
    "print(car)\n"
   ]
  },
  {
   "cell_type": "code",
   "execution_count": 19,
   "id": "28cf65fb",
   "metadata": {},
   "outputs": [
    {
     "name": "stdout",
     "output_type": "stream",
     "text": [
      "Person(name=Alice, age=30)\n"
     ]
    }
   ],
   "source": [
    "class Person:\n",
    "    def __init__(self, name, age):\n",
    "        self.name = name\n",
    "        self.age = age\n",
    "    \n",
    "    def __str__(self):\n",
    "        return f\"Person(name={self.name}, age={self.age})\"\n",
    "\n",
    "person = Person(name=\"Alice\", age=30)\n",
    "print(person)\n"
   ]
  },
  {
   "cell_type": "code",
   "execution_count": 20,
   "id": "ac043608",
   "metadata": {},
   "outputs": [
    {
     "name": "stdout",
     "output_type": "stream",
     "text": [
      "MyClass(value=30)\n"
     ]
    }
   ],
   "source": [
    "class MyClass:\n",
    "    def __init__(self, value):\n",
    "        self.value = value\n",
    "\n",
    "    def __add__(self, other):\n",
    "        return MyClass(self.value + other.value)\n",
    "    \n",
    "    def __str__(self):\n",
    "        return f\"MyClass(value={self.value})\"\n",
    "\n",
    "obj1 = MyClass(10)\n",
    "obj2 = MyClass(20)\n",
    "result = obj1 + obj2\n",
    "print(result)\n"
   ]
  },
  {
   "cell_type": "code",
   "execution_count": 21,
   "id": "3cc7dafd",
   "metadata": {},
   "outputs": [
    {
     "name": "stdout",
     "output_type": "stream",
     "text": [
      "5\n"
     ]
    }
   ],
   "source": [
    "class Container:\n",
    "    def __init__(self, items):\n",
    "        self.items = items\n",
    "\n",
    "    def __len__(self):\n",
    "        return len(self.items)\n",
    "\n",
    "container = Container([1, 2, 3, 4, 5])\n",
    "print(len(container))\n"
   ]
  },
  {
   "cell_type": "code",
   "execution_count": 23,
   "id": "69df1b2a",
   "metadata": {},
   "outputs": [
    {
     "name": "stdout",
     "output_type": "stream",
     "text": [
      "30\n"
     ]
    }
   ],
   "source": [
    "class MyList:\n",
    "    def __init__(self, items):\n",
    "        self.items = items\n",
    "\n",
    "    def __getitem__(self, index):\n",
    "        return self.items[index]\n",
    "\n",
    "my_list = MyList([10, 20, 30, 40])\n",
    "print(my_list[2])\n",
    "\n"
   ]
  },
  {
   "cell_type": "code",
   "execution_count": 25,
   "id": "68ea6285",
   "metadata": {},
   "outputs": [
    {
     "name": "stdout",
     "output_type": "stream",
     "text": [
      "100\n"
     ]
    }
   ],
   "source": [
    "class MyList:\n",
    "    def __init__(self, items):\n",
    "        self.items = items\n",
    "\n",
    "    def __getitem__(self, index):\n",
    "        return self.items[index]\n",
    "\n",
    "    def __setitem__(self, index, value):\n",
    "        self.items[index] = value\n",
    "\n",
    "my_list = MyList([10, 20, 30, 40])\n",
    "my_list[2] = 100\n",
    "print(my_list[2])\n",
    "\n"
   ]
  },
  {
   "cell_type": "code",
   "execution_count": 26,
   "id": "16e07c87",
   "metadata": {},
   "outputs": [
    {
     "name": "stdout",
     "output_type": "stream",
     "text": [
      "[10, 30, 40]\n"
     ]
    }
   ],
   "source": [
    "class MyList:\n",
    "    def __init__(self, items):\n",
    "        self.items = items\n",
    "\n",
    "    def __getitem__(self, index):\n",
    "        return self.items[index]\n",
    "\n",
    "    def __delitem__(self, index):\n",
    "        del self.items[index]\n",
    "\n",
    "my_list = MyList([10, 20, 30, 40])\n",
    "del my_list[1]\n",
    "print(my_list.items)\n",
    "\n"
   ]
  },
  {
   "cell_type": "code",
   "execution_count": 27,
   "id": "f6797e15",
   "metadata": {},
   "outputs": [
    {
     "name": "stdout",
     "output_type": "stream",
     "text": [
      "True\n",
      "False\n"
     ]
    }
   ],
   "source": [
    "class MyList:\n",
    "    def __init__(self, items):\n",
    "        self.items = items\n",
    "\n",
    "    def __contains__(self, item):\n",
    "        return item in self.items\n",
    "\n",
    "my_list = MyList([10, 20, 30, 40])\n",
    "print(20 in my_list)\n",
    "print(50 in my_list)\n"
   ]
  },
  {
   "cell_type": "code",
   "execution_count": 28,
   "id": "735aecf4",
   "metadata": {},
   "outputs": [
    {
     "name": "stdout",
     "output_type": "stream",
     "text": [
      "True\n",
      "False\n"
     ]
    }
   ],
   "source": [
    "class MyClass:\n",
    "    def __init__(self, value):\n",
    "        self.value = value\n",
    "\n",
    "    def __eq__(self, other):\n",
    "        if isinstance(other, MyClass):\n",
    "            return self.value == other.value\n",
    "        return False\n",
    "\n",
    "obj1 = MyClass(10)\n",
    "obj2 = MyClass(10)\n",
    "obj3 = MyClass(20)\n",
    "\n",
    "print(obj1 == obj2)\n",
    "print(obj1 == obj3)\n"
   ]
  },
  {
   "cell_type": "code",
   "execution_count": null,
   "id": "91a1bfa2",
   "metadata": {},
   "outputs": [],
   "source": []
  }
 ],
 "metadata": {
  "kernelspec": {
   "display_name": "Python 3 (ipykernel)",
   "language": "python",
   "name": "python3"
  },
  "language_info": {
   "codemirror_mode": {
    "name": "ipython",
    "version": 3
   },
   "file_extension": ".py",
   "mimetype": "text/x-python",
   "name": "python",
   "nbconvert_exporter": "python",
   "pygments_lexer": "ipython3",
   "version": "3.11.3"
  }
 },
 "nbformat": 4,
 "nbformat_minor": 5
}
