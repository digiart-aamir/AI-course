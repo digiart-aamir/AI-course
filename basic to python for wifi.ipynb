{
 "cells": [
  {
   "cell_type": "markdown",
   "id": "64121026",
   "metadata": {},
   "source": [
    "# data types"
   ]
  },
  {
   "cell_type": "code",
   "execution_count": 9,
   "id": "52aeac0f",
   "metadata": {},
   "outputs": [
    {
     "data": {
      "text/plain": [
       "(10, 2.53, 'A', 'amir', True)"
      ]
     },
     "execution_count": 9,
     "metadata": {},
     "output_type": "execute_result"
    }
   ],
   "source": [
    "a = 10\n",
    "b = 2.53\n",
    "c = 'A'\n",
    "d = \"amir\"\n",
    "e = True\n",
    "\n",
    "a,b,c,d,e"
   ]
  },
  {
   "cell_type": "code",
   "execution_count": 10,
   "id": "541218d8",
   "metadata": {},
   "outputs": [
    {
     "data": {
      "text/plain": [
       "(int, float, str, str, bool)"
      ]
     },
     "execution_count": 10,
     "metadata": {},
     "output_type": "execute_result"
    }
   ],
   "source": [
    "type(a), type(b), type(c), type(d), type(e)"
   ]
  },
  {
   "cell_type": "code",
   "execution_count": 11,
   "id": "f6bc95ac",
   "metadata": {},
   "outputs": [],
   "source": [
    "x = a+b"
   ]
  },
  {
   "cell_type": "code",
   "execution_count": 12,
   "id": "7f00535f",
   "metadata": {},
   "outputs": [
    {
     "data": {
      "text/plain": [
       "float"
      ]
     },
     "execution_count": 12,
     "metadata": {},
     "output_type": "execute_result"
    }
   ],
   "source": [
    "type(x)"
   ]
  },
  {
   "cell_type": "code",
   "execution_count": 15,
   "id": "0236d5c9",
   "metadata": {},
   "outputs": [
    {
     "data": {
      "text/plain": [
       "'Aamir'"
      ]
     },
     "execution_count": 15,
     "metadata": {},
     "output_type": "execute_result"
    }
   ],
   "source": [
    "y= c+d\n",
    "y"
   ]
  },
  {
   "cell_type": "code",
   "execution_count": 16,
   "id": "2599765e",
   "metadata": {},
   "outputs": [
    {
     "data": {
      "text/plain": [
       "str"
      ]
     },
     "execution_count": 16,
     "metadata": {},
     "output_type": "execute_result"
    }
   ],
   "source": [
    "type(y)"
   ]
  },
  {
   "cell_type": "code",
   "execution_count": 37,
   "id": "b1c6a07d",
   "metadata": {},
   "outputs": [
    {
     "data": {
      "text/plain": [
       "list"
      ]
     },
     "execution_count": 37,
     "metadata": {},
     "output_type": "execute_result"
    }
   ],
   "source": [
    "# list \n",
    "age = [4,5,6,6,4,4,3,5]\n",
    "\n",
    "type(age)"
   ]
  },
  {
   "cell_type": "code",
   "execution_count": 39,
   "id": "394ca593",
   "metadata": {},
   "outputs": [
    {
     "data": {
      "text/plain": [
       "tuple"
      ]
     },
     "execution_count": 39,
     "metadata": {},
     "output_type": "execute_result"
    }
   ],
   "source": [
    "# tuple\n",
    "age = (3,4,4,3,3,5,3,32,23)\n",
    "\n",
    "type(age)"
   ]
  },
  {
   "cell_type": "code",
   "execution_count": 40,
   "id": "fad336f8",
   "metadata": {},
   "outputs": [
    {
     "data": {
      "text/plain": [
       "{'aamir': 'AI', 'sidra': 'faIL', 'BAQI SAB': 'PASS'}"
      ]
     },
     "execution_count": 40,
     "metadata": {},
     "output_type": "execute_result"
    }
   ],
   "source": [
    "# dict\n",
    "\n",
    "subject = {\"aamir\": \"AI\", \n",
    "          \"sidra\": \"faIL\",\n",
    "          \"BAQI SAB\": \"PASS\"}\n",
    "\n",
    "subject"
   ]
  },
  {
   "cell_type": "code",
   "execution_count": 41,
   "id": "29b922d7",
   "metadata": {},
   "outputs": [
    {
     "data": {
      "text/plain": [
       "dict"
      ]
     },
     "execution_count": 41,
     "metadata": {},
     "output_type": "execute_result"
    }
   ],
   "source": [
    "type(subject)"
   ]
  },
  {
   "cell_type": "markdown",
   "id": "ad66f027",
   "metadata": {},
   "source": [
    "# Opreations"
   ]
  },
  {
   "cell_type": "code",
   "execution_count": 20,
   "id": "9d6c3107",
   "metadata": {},
   "outputs": [
    {
     "data": {
      "text/plain": [
       "(13, 3, 40, 1.6, 32768, 3)"
      ]
     },
     "execution_count": 20,
     "metadata": {},
     "output_type": "execute_result"
    }
   ],
   "source": [
    "# arthmetic\n",
    "\n",
    "a = 8\n",
    "b = 5\n",
    "\n",
    "a+b, a-b, a*b, a/b, a**b, a%b"
   ]
  },
  {
   "cell_type": "code",
   "execution_count": 21,
   "id": "9c37477a",
   "metadata": {},
   "outputs": [
    {
     "data": {
      "text/plain": [
       "(True, False, False, True, True, False)"
      ]
     },
     "execution_count": 21,
     "metadata": {},
     "output_type": "execute_result"
    }
   ],
   "source": [
    "# logical \n",
    "\n",
    "a>b, a<b , a<=b , a>=b , a!=b, a==b"
   ]
  },
  {
   "cell_type": "code",
   "execution_count": 22,
   "id": "c96fe3d3",
   "metadata": {},
   "outputs": [],
   "source": [
    "# assignmnet \n",
    "\n",
    "# = \n",
    "\n",
    "a= 10"
   ]
  },
  {
   "cell_type": "code",
   "execution_count": 23,
   "id": "83aeb32c",
   "metadata": {},
   "outputs": [],
   "source": [
    "b =a"
   ]
  },
  {
   "cell_type": "code",
   "execution_count": 24,
   "id": "c2aeaebf",
   "metadata": {},
   "outputs": [
    {
     "data": {
      "text/plain": [
       "10"
      ]
     },
     "execution_count": 24,
     "metadata": {},
     "output_type": "execute_result"
    }
   ],
   "source": [
    "b"
   ]
  },
  {
   "cell_type": "code",
   "execution_count": 26,
   "id": "ff27bdec",
   "metadata": {},
   "outputs": [
    {
     "data": {
      "text/plain": [
       "10"
      ]
     },
     "execution_count": 26,
     "metadata": {},
     "output_type": "execute_result"
    }
   ],
   "source": [
    "# .....\n",
    "a =10\n",
    "a"
   ]
  },
  {
   "cell_type": "code",
   "execution_count": 27,
   "id": "775de971",
   "metadata": {},
   "outputs": [],
   "source": [
    "a = 11"
   ]
  },
  {
   "cell_type": "code",
   "execution_count": 28,
   "id": "388034fd",
   "metadata": {},
   "outputs": [
    {
     "data": {
      "text/plain": [
       "11"
      ]
     },
     "execution_count": 28,
     "metadata": {},
     "output_type": "execute_result"
    }
   ],
   "source": [
    "a"
   ]
  },
  {
   "cell_type": "code",
   "execution_count": 29,
   "id": "5e44f420",
   "metadata": {},
   "outputs": [],
   "source": [
    "a +=1 \n",
    "# a = a+1"
   ]
  },
  {
   "cell_type": "code",
   "execution_count": 30,
   "id": "f257221f",
   "metadata": {},
   "outputs": [
    {
     "data": {
      "text/plain": [
       "12"
      ]
     },
     "execution_count": 30,
     "metadata": {},
     "output_type": "execute_result"
    }
   ],
   "source": [
    "a"
   ]
  },
  {
   "cell_type": "code",
   "execution_count": 31,
   "id": "ae900ebb",
   "metadata": {},
   "outputs": [
    {
     "data": {
      "text/plain": [
       "24"
      ]
     },
     "execution_count": 31,
     "metadata": {},
     "output_type": "execute_result"
    }
   ],
   "source": [
    "a *= 2\n",
    "a"
   ]
  },
  {
   "cell_type": "markdown",
   "id": "1ef18974",
   "metadata": {},
   "source": [
    "# control structer"
   ]
  },
  {
   "cell_type": "code",
   "execution_count": 32,
   "id": "a4243440",
   "metadata": {},
   "outputs": [
    {
     "name": "stdout",
     "output_type": "stream",
     "text": [
      "this is first line\n",
      "this is second line\n",
      "this is third line\n",
      "this is fourth line\n"
     ]
    }
   ],
   "source": [
    "print(\"this is first line\")\n",
    "print(\"this is second line\")\n",
    "print(\"this is third line\")\n",
    "print(\"this is fourth line\")"
   ]
  },
  {
   "cell_type": "markdown",
   "id": "177d4027",
   "metadata": {},
   "source": [
    "1. conditonal statements\n",
    "2. iteration"
   ]
  },
  {
   "cell_type": "code",
   "execution_count": 36,
   "id": "0885924d",
   "metadata": {},
   "outputs": [
    {
     "name": "stdout",
     "output_type": "stream",
     "text": [
      "number is less than 4\n"
     ]
    }
   ],
   "source": [
    "# if, elif, else\n",
    "\n",
    "\n",
    "num = 1\n",
    "\n",
    "if num ==4:\n",
    "    print(\"this is number 4\")\n",
    "elif num >4:\n",
    "    print(\"this is greater than 4\")\n",
    "else:\n",
    "    print(\"number is less than 4\")"
   ]
  },
  {
   "cell_type": "code",
   "execution_count": 45,
   "id": "e1f50a98",
   "metadata": {},
   "outputs": [
    {
     "name": "stdout",
     "output_type": "stream",
     "text": [
      "4\n",
      "5\n",
      "6\n",
      "6\n",
      "4\n",
      "4\n",
      "3\n",
      "5\n"
     ]
    }
   ],
   "source": [
    "# loop\n",
    "age = [4,5,6,6,4,4,3,5]\n",
    "\n",
    "for i in age:\n",
    "    print(i)"
   ]
  },
  {
   "cell_type": "code",
   "execution_count": 47,
   "id": "4b50afa6",
   "metadata": {},
   "outputs": [
    {
     "name": "stdout",
     "output_type": "stream",
     "text": [
      "key aamir      value love sidra\n",
      "key sidra      value pass\n",
      "key BAQI SAB      value bar ma gaen\n"
     ]
    }
   ],
   "source": [
    "subject = {\"aamir\": \"love sidra\", \n",
    "          \"sidra\": \"pass\",\n",
    "          \"BAQI SAB\": \"bar ma gaen\"}\n",
    "\n",
    "for key, value in subject.items():\n",
    "    print(f\"key {key}      value {value}\")"
   ]
  },
  {
   "cell_type": "code",
   "execution_count": 53,
   "id": "9e8ae70b",
   "metadata": {},
   "outputs": [
    {
     "name": "stdout",
     "output_type": "stream",
     "text": [
      "3\n",
      "13\n",
      "23\n",
      "33\n",
      "43\n",
      "53\n",
      "63\n",
      "73\n",
      "83\n",
      "93\n",
      "103\n",
      "113\n",
      "123\n",
      "133\n",
      "143\n",
      "153\n",
      "163\n",
      "173\n",
      "183\n",
      "193\n"
     ]
    }
   ],
   "source": [
    "for i in range(3,200,10):\n",
    "    print(i)"
   ]
  },
  {
   "cell_type": "markdown",
   "id": "d45e9940",
   "metadata": {},
   "source": [
    "# functions"
   ]
  },
  {
   "cell_type": "markdown",
   "id": "0c3e4441",
   "metadata": {},
   "source": [
    "function defination"
   ]
  },
  {
   "cell_type": "code",
   "execution_count": 73,
   "id": "b6f2f97c",
   "metadata": {},
   "outputs": [],
   "source": [
    "def cube(a):\n",
    "    cube = a*a*a\n",
    "    return cube"
   ]
  },
  {
   "cell_type": "code",
   "execution_count": 74,
   "id": "15352e12",
   "metadata": {},
   "outputs": [],
   "source": [
    "num =4"
   ]
  },
  {
   "cell_type": "code",
   "execution_count": 75,
   "id": "ade538f6",
   "metadata": {},
   "outputs": [],
   "source": [
    "c = cube(num)"
   ]
  },
  {
   "cell_type": "code",
   "execution_count": 76,
   "id": "aa4480a0",
   "metadata": {},
   "outputs": [
    {
     "data": {
      "text/plain": [
       "64"
      ]
     },
     "execution_count": 76,
     "metadata": {},
     "output_type": "execute_result"
    }
   ],
   "source": [
    "c"
   ]
  },
  {
   "cell_type": "markdown",
   "id": "20c07681",
   "metadata": {},
   "source": [
    "## another function"
   ]
  },
  {
   "cell_type": "code",
   "execution_count": 77,
   "id": "de19a499",
   "metadata": {},
   "outputs": [],
   "source": [
    "def check_even_odd(n):\n",
    "    if n%2==0:\n",
    "        return \"even\"\n",
    "    return \"odd\""
   ]
  },
  {
   "cell_type": "code",
   "execution_count": 78,
   "id": "5994cfc5",
   "metadata": {},
   "outputs": [
    {
     "data": {
      "text/plain": [
       "10"
      ]
     },
     "execution_count": 78,
     "metadata": {},
     "output_type": "execute_result"
    }
   ],
   "source": [
    "a"
   ]
  },
  {
   "cell_type": "code",
   "execution_count": 79,
   "id": "25fbe93d",
   "metadata": {},
   "outputs": [
    {
     "name": "stdout",
     "output_type": "stream",
     "text": [
      "even\n"
     ]
    }
   ],
   "source": [
    "print(check_even_odd(a))"
   ]
  },
  {
   "cell_type": "code",
   "execution_count": null,
   "id": "a72d6ca0",
   "metadata": {},
   "outputs": [],
   "source": []
  }
 ],
 "metadata": {
  "kernelspec": {
   "display_name": "Python 3 (ipykernel)",
   "language": "python",
   "name": "python3"
  },
  "language_info": {
   "codemirror_mode": {
    "name": "ipython",
    "version": 3
   },
   "file_extension": ".py",
   "mimetype": "text/x-python",
   "name": "python",
   "nbconvert_exporter": "python",
   "pygments_lexer": "ipython3",
   "version": "3.11.3"
  }
 },
 "nbformat": 4,
 "nbformat_minor": 5
}
