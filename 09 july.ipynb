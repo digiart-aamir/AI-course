{
 "cells": [
  {
   "cell_type": "markdown",
   "id": "d4f8213a",
   "metadata": {},
   "source": [
    "# Tasks"
   ]
  },
  {
   "cell_type": "markdown",
   "id": "29790540",
   "metadata": {},
   "source": [
    "## task1"
   ]
  },
  {
   "cell_type": "code",
   "execution_count": 1,
   "id": "fce88bca",
   "metadata": {},
   "outputs": [
    {
     "name": "stdout",
     "output_type": "stream",
     "text": [
      "The sum of 3 and 5 is 8\n"
     ]
    }
   ],
   "source": [
    "def add_numbers(a, b):\n",
    "    sum = a + b\n",
    "    print(f\"The sum of {a} and {b} is {sum}\")\n",
    "\n",
    "# Example usage\n",
    "add_numbers(3, 5)\n"
   ]
  },
  {
   "cell_type": "markdown",
   "id": "9a66a9ce",
   "metadata": {},
   "source": [
    "## task 2"
   ]
  },
  {
   "cell_type": "code",
   "execution_count": 4,
   "id": "e4922bda",
   "metadata": {},
   "outputs": [
    {
     "name": "stdout",
     "output_type": "stream",
     "text": [
      "Hello, Python!\n"
     ]
    }
   ],
   "source": [
    "def print_message():\n",
    "    print(\"Hello, Python!\")\n",
    "\n",
    "\n",
    "print_message()"
   ]
  },
  {
   "cell_type": "markdown",
   "id": "431c3b93",
   "metadata": {},
   "source": [
    "## task 3"
   ]
  },
  {
   "cell_type": "code",
   "execution_count": 5,
   "id": "5463054a",
   "metadata": {},
   "outputs": [
    {
     "name": "stdout",
     "output_type": "stream",
     "text": [
      "Odd\n"
     ]
    }
   ],
   "source": [
    "def check_even_odd(number):\n",
    "    if number % 2 == 0:\n",
    "        print(\"Even\")\n",
    "    else:\n",
    "        print(\"Odd\")\n",
    "\n",
    "# Example usage:\n",
    "check_even_odd(7)"
   ]
  },
  {
   "cell_type": "markdown",
   "id": "e97f6a26",
   "metadata": {},
   "source": [
    "## task 4"
   ]
  },
  {
   "cell_type": "code",
   "execution_count": 6,
   "id": "552f6e9e",
   "metadata": {},
   "outputs": [
    {
     "name": "stdout",
     "output_type": "stream",
     "text": [
      "16\n"
     ]
    }
   ],
   "source": [
    "def square(number):\n",
    "    return number ** 2\n",
    "\n",
    "\n",
    "result = square(4)\n",
    "print(result)"
   ]
  },
  {
   "cell_type": "markdown",
   "id": "a0a0864a",
   "metadata": {},
   "source": [
    "## task 5"
   ]
  },
  {
   "cell_type": "code",
   "execution_count": 14,
   "id": "7e31fda1",
   "metadata": {},
   "outputs": [
    {
     "name": "stdout",
     "output_type": "stream",
     "text": [
      "Sum: 15, Difference: 5, Product: 50, Quotient: 2.0\n"
     ]
    }
   ],
   "source": [
    "def math_operations(a, b):\n",
    "    return a + b, a - b, a * b, a / b\n",
    "\n",
    "\n",
    "sum, difference, product, quotient = math_operations(10, 5)\n",
    "print(f\"Sum: {sum}, Difference: {difference}, Product: {product}, Quotient: {quotient}\")"
   ]
  },
  {
   "cell_type": "markdown",
   "id": "7b9d95dc",
   "metadata": {},
   "source": [
    "## task 6"
   ]
  },
  {
   "cell_type": "code",
   "execution_count": 9,
   "id": "2829648d",
   "metadata": {},
   "outputs": [
    {
     "name": "stdout",
     "output_type": "stream",
     "text": [
      "My name is Alice and I am 18 years old.\n",
      "My name is Aamir and I am 23 years old.\n"
     ]
    }
   ],
   "source": [
    "def introduce(name, age=18):\n",
    "    print(f\"My name is {name} and I am {age} years old.\")\n",
    "\n",
    "# Example usage:\n",
    "introduce(\"Ramzan\")\n",
    "introduce(\"Aamir\", 23)"
   ]
  },
  {
   "cell_type": "markdown",
   "id": "edd3b53f",
   "metadata": {},
   "source": [
    "## task 7"
   ]
  },
  {
   "cell_type": "code",
   "execution_count": 12,
   "id": "5d0b1a8d",
   "metadata": {},
   "outputs": [
    {
     "name": "stdout",
     "output_type": "stream",
     "text": [
      "20\n"
     ]
    }
   ],
   "source": [
    "multiply = lambda x, y: x * y\n",
    "\n",
    "\n",
    "result = multiply(4, 5)\n",
    "print(result)"
   ]
  },
  {
   "cell_type": "markdown",
   "id": "bfe894dd",
   "metadata": {},
   "source": [
    "## task 8"
   ]
  },
  {
   "cell_type": "code",
   "execution_count": 13,
   "id": "457422e6",
   "metadata": {},
   "outputs": [
    {
     "name": "stdout",
     "output_type": "stream",
     "text": [
      "The area of the rectangle is: 15\n"
     ]
    }
   ],
   "source": [
    "def rectangle_area(width, height):\n",
    "    area = width * height\n",
    "    print(f\"The area of the rectangle is: {area}\")\n",
    "\n",
    "\n",
    "rectangle_area(5, 3)"
   ]
  },
  {
   "cell_type": "markdown",
   "id": "8115c5e7",
   "metadata": {},
   "source": [
    "# happy ending "
   ]
  },
  {
   "cell_type": "code",
   "execution_count": null,
   "id": "bb2b94df",
   "metadata": {},
   "outputs": [],
   "source": []
  }
 ],
 "metadata": {
  "kernelspec": {
   "display_name": "Python 3 (ipykernel)",
   "language": "python",
   "name": "python3"
  },
  "language_info": {
   "codemirror_mode": {
    "name": "ipython",
    "version": 3
   },
   "file_extension": ".py",
   "mimetype": "text/x-python",
   "name": "python",
   "nbconvert_exporter": "python",
   "pygments_lexer": "ipython3",
   "version": "3.11.3"
  }
 },
 "nbformat": 4,
 "nbformat_minor": 5
}
