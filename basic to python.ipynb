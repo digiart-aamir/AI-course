{
 "cells": [
  {
   "cell_type": "markdown",
   "id": "b9001c79",
   "metadata": {},
   "source": [
    "# This is just a basic class to AI_Course"
   ]
  },
  {
   "cell_type": "code",
   "execution_count": 1,
   "id": "1a72838e",
   "metadata": {},
   "outputs": [
    {
     "name": "stdout",
     "output_type": "stream",
     "text": [
      "Aamir Jamil\n"
     ]
    }
   ],
   "source": [
    "name = \"Aamir Jamil\"\n",
    "print(name)"
   ]
  },
  {
   "cell_type": "code",
   "execution_count": 5,
   "id": "f361ed24",
   "metadata": {},
   "outputs": [
    {
     "name": "stdout",
     "output_type": "stream",
     "text": [
      "sum of numbers is 8\n"
     ]
    }
   ],
   "source": [
    "n1 =3 \n",
    "n2 =5\n",
    "sum = n1 + n2 \n",
    "print (\"sum of numbers is\",sum)"
   ]
  },
  {
   "cell_type": "code",
   "execution_count": 8,
   "id": "f925c4ae",
   "metadata": {},
   "outputs": [
    {
     "name": "stdout",
     "output_type": "stream",
     "text": [
      "subtraction of numbers is 4\n"
     ]
    }
   ],
   "source": [
    "n1 =9 \n",
    "n2 =5\n",
    "sum = n1 - n2 \n",
    "print(\"subtraction of numbers is\",sum)"
   ]
  },
  {
   "cell_type": "code",
   "execution_count": 9,
   "id": "e2e0829a",
   "metadata": {},
   "outputs": [
    {
     "name": "stdout",
     "output_type": "stream",
     "text": [
      "avg of numbers is 7.0\n"
     ]
    }
   ],
   "source": [
    "#  avg of numbers\n",
    "n1 =9 \n",
    "n2 =5\n",
    "sum = n1 + n2 \n",
    "avg = sum /2\n",
    "print(\"avg of numbers is\",avg)"
   ]
  },
  {
   "cell_type": "code",
   "execution_count": null,
   "id": "e8bac131",
   "metadata": {},
   "outputs": [],
   "source": []
  }
 ],
 "metadata": {
  "kernelspec": {
   "display_name": "Python 3 (ipykernel)",
   "language": "python",
   "name": "python3"
  },
  "language_info": {
   "codemirror_mode": {
    "name": "ipython",
    "version": 3
   },
   "file_extension": ".py",
   "mimetype": "text/x-python",
   "name": "python",
   "nbconvert_exporter": "python",
   "pygments_lexer": "ipython3",
   "version": "3.11.3"
  }
 },
 "nbformat": 4,
 "nbformat_minor": 5
}
