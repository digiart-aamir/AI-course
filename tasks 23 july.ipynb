{
 "cells": [
  {
   "cell_type": "code",
   "execution_count": 2,
   "id": "92d42c9f",
   "metadata": {},
   "outputs": [],
   "source": [
    "import numpy as np"
   ]
  },
  {
   "cell_type": "markdown",
   "id": "830979ab",
   "metadata": {},
   "source": [
    "# task 1"
   ]
  },
  {
   "cell_type": "code",
   "execution_count": 3,
   "id": "aa2d3044",
   "metadata": {},
   "outputs": [],
   "source": [
    "# Step 1\n",
    "original_array = np.array([4, 5, 6, 7])"
   ]
  },
  {
   "cell_type": "code",
   "execution_count": 4,
   "id": "b66087b5",
   "metadata": {},
   "outputs": [],
   "source": [
    "# Step 2\n",
    "copied_array = np.copy(original_array)"
   ]
  },
  {
   "cell_type": "code",
   "execution_count": 5,
   "id": "059823d7",
   "metadata": {},
   "outputs": [],
   "source": [
    "# Step 3\n",
    "copied_array[2] = 99"
   ]
  },
  {
   "cell_type": "code",
   "execution_count": 6,
   "id": "17dca94a",
   "metadata": {},
   "outputs": [
    {
     "name": "stdout",
     "output_type": "stream",
     "text": [
      "Original array: [4 5 6 7]\n",
      "Copied array: [ 4  5 99  7]\n"
     ]
    }
   ],
   "source": [
    "# Step 4\n",
    "print(\"Original array:\", original_array)\n",
    "print(\"Copied array:\", copied_array)"
   ]
  },
  {
   "cell_type": "markdown",
   "id": "03ca0313",
   "metadata": {},
   "source": [
    "# task 2"
   ]
  },
  {
   "cell_type": "code",
   "execution_count": 7,
   "id": "3378dce2",
   "metadata": {},
   "outputs": [],
   "source": [
    "# Step 1\n",
    "original_array = np.array([1, 3, 5])"
   ]
  },
  {
   "cell_type": "code",
   "execution_count": 8,
   "id": "34442022",
   "metadata": {},
   "outputs": [],
   "source": [
    "# Step 2\n",
    "new_array = np.append(original_array, [7, 9])"
   ]
  },
  {
   "cell_type": "code",
   "execution_count": 9,
   "id": "be53958d",
   "metadata": {},
   "outputs": [
    {
     "name": "stdout",
     "output_type": "stream",
     "text": [
      "Original array: [1 3 5]\n",
      "New array after appending: [1 3 5 7 9]\n"
     ]
    }
   ],
   "source": [
    "# Step 3\n",
    "print(\"Original array:\", original_array)\n",
    "print(\"New array after appending:\", new_array)"
   ]
  },
  {
   "cell_type": "markdown",
   "id": "36480e02",
   "metadata": {},
   "source": [
    "# task 3"
   ]
  },
  {
   "cell_type": "code",
   "execution_count": 11,
   "id": "953371a9",
   "metadata": {},
   "outputs": [],
   "source": [
    "# Step 1\n",
    "original_array = np.array([10, 20, 30, 40])"
   ]
  },
  {
   "cell_type": "code",
   "execution_count": 12,
   "id": "5ca2a207",
   "metadata": {},
   "outputs": [],
   "source": [
    "# Step 2\n",
    "new_array = np.insert(original_array, 2, [25, 27])"
   ]
  },
  {
   "cell_type": "code",
   "execution_count": 13,
   "id": "bef4fee7",
   "metadata": {},
   "outputs": [
    {
     "name": "stdout",
     "output_type": "stream",
     "text": [
      "Original array: [10 20 30 40]\n",
      "New array after insertion: [10 20 25 27 30 40]\n"
     ]
    }
   ],
   "source": [
    "# Step 3\n",
    "print(\"Original array:\", original_array)\n",
    "print(\"New array after insertion:\", new_array)"
   ]
  },
  {
   "cell_type": "markdown",
   "id": "1516c448",
   "metadata": {},
   "source": [
    "# task 4"
   ]
  },
  {
   "cell_type": "code",
   "execution_count": 14,
   "id": "39b0a772",
   "metadata": {},
   "outputs": [],
   "source": [
    "# Step 1\n",
    "original_array = np.array([14, 3, 11, 7])"
   ]
  },
  {
   "cell_type": "code",
   "execution_count": 16,
   "id": "7ded3d01",
   "metadata": {},
   "outputs": [],
   "source": [
    "# Step 2\n",
    "sorted_array = np.sort(original_array)"
   ]
  },
  {
   "cell_type": "code",
   "execution_count": 17,
   "id": "0fa99851",
   "metadata": {},
   "outputs": [
    {
     "name": "stdout",
     "output_type": "stream",
     "text": [
      "Original array: [14  3 11  7]\n",
      "Sorted array: [ 3  7 11 14]\n"
     ]
    }
   ],
   "source": [
    "# Step 3\n",
    "print(\"Original array:\", original_array)\n",
    "print(\"Sorted array:\", sorted_array)"
   ]
  },
  {
   "cell_type": "markdown",
   "id": "80e2f584",
   "metadata": {},
   "source": [
    "# task 5"
   ]
  },
  {
   "cell_type": "code",
   "execution_count": 18,
   "id": "c6445de1",
   "metadata": {},
   "outputs": [],
   "source": [
    "# Step 1\n",
    "original_array = np.array([8, 6, 7, 5, 3, 0, 9])\n"
   ]
  },
  {
   "cell_type": "code",
   "execution_count": 19,
   "id": "15f7ae94",
   "metadata": {},
   "outputs": [],
   "source": [
    "# Step 2\n",
    "new_array = np.delete(original_array, [1, 4])\n"
   ]
  },
  {
   "cell_type": "code",
   "execution_count": 20,
   "id": "de4abac8",
   "metadata": {},
   "outputs": [
    {
     "name": "stdout",
     "output_type": "stream",
     "text": [
      "Original array: [8 6 7 5 3 0 9]\n",
      "New array after deletion: [8 7 5 0 9]\n"
     ]
    }
   ],
   "source": [
    "# Step 3\n",
    "print(\"Original array:\", original_array)\n",
    "print(\"New array after deletion:\", new_array)"
   ]
  },
  {
   "cell_type": "markdown",
   "id": "6b312e5c",
   "metadata": {},
   "source": [
    "# task 6"
   ]
  },
  {
   "cell_type": "code",
   "execution_count": 21,
   "id": "57db92d5",
   "metadata": {},
   "outputs": [
    {
     "name": "stdout",
     "output_type": "stream",
     "text": [
      "Array 1: [1 4 7]\n",
      "Array 2: [2 5 8]\n",
      "Combined array: [1 4 7 2 5 8]\n"
     ]
    }
   ],
   "source": [
    "array1 = np.array([1, 4, 7])\n",
    "array2 = np.array([2, 5, 8])\n",
    "\n",
    "combined_array = np.concatenate((array1, array2))\n",
    "\n",
    "print(\"Array 1:\", array1)\n",
    "print(\"Array 2:\", array2)\n",
    "print(\"Combined array:\", combined_array)"
   ]
  },
  {
   "cell_type": "markdown",
   "id": "47356d12",
   "metadata": {},
   "source": [
    "# task 7"
   ]
  },
  {
   "cell_type": "code",
   "execution_count": 22,
   "id": "793962af",
   "metadata": {},
   "outputs": [
    {
     "name": "stdout",
     "output_type": "stream",
     "text": [
      "Original array: [12 15 18 21 24 27]\n",
      "Sub-arrays:\n",
      "[12 15]\n",
      "[18 21]\n",
      "[24 27]\n"
     ]
    }
   ],
   "source": [
    "original_array = np.array([12, 15, 18, 21, 24, 27])\n",
    "\n",
    "sub_arrays = np.array_split(original_array, 3)\n",
    "\n",
    "print(\"Original array:\", original_array)\n",
    "print(\"Sub-arrays:\")\n",
    "for sub_array in sub_arrays:\n",
    "    print(sub_array)\n"
   ]
  },
  {
   "cell_type": "markdown",
   "id": "8e4dfeef",
   "metadata": {},
   "source": [
    "# task 8"
   ]
  },
  {
   "cell_type": "code",
   "execution_count": 23,
   "id": "eda9517b",
   "metadata": {},
   "outputs": [
    {
     "name": "stdout",
     "output_type": "stream",
     "text": [
      "Original array: [13 11 17 15 19]\n",
      "Sorted array: [11 13 15 17 19]\n",
      "Appended array: [11 13 15 17 19 21 23]\n",
      "Final array after deletion: [11 13 17 19 21 23]\n"
     ]
    }
   ],
   "source": [
    "original_array = np.array([13, 11, 17, 15, 19])\n",
    "\n",
    "sorted_array = np.sort(original_array)\n",
    "\n",
    "appended_array = np.append(sorted_array, [21, 23])\n",
    "\n",
    "final_array = np.delete(appended_array, 2)\n",
    "\n",
    "print(\"Original array:\", original_array)\n",
    "print(\"Sorted array:\", sorted_array)\n",
    "print(\"Appended array:\", appended_array)\n",
    "print(\"Final array after deletion:\", final_array)\n"
   ]
  },
  {
   "cell_type": "markdown",
   "id": "d9a321c6",
   "metadata": {},
   "source": [
    "# task 9"
   ]
  },
  {
   "cell_type": "code",
   "execution_count": 24,
   "id": "b14110be",
   "metadata": {},
   "outputs": [
    {
     "name": "stdout",
     "output_type": "stream",
     "text": [
      "Title: Book One, Author: Author A\n",
      "Title: Book Two, Author: Author B\n"
     ]
    }
   ],
   "source": [
    "class Book:\n",
    "    def __init__(self, title, author):\n",
    "        self.title = title\n",
    "        self.author = author\n",
    "\n",
    "class Library:\n",
    "    def __init__(self):\n",
    "        self.books = []\n",
    "\n",
    "    def add_book(self, book):\n",
    "        self.books.append(book)\n",
    "\n",
    "    def list_books(self):\n",
    "        for book in self.books:\n",
    "            print(f\"Title: {book.title}, Author: {book.author}\")\n",
    "\n",
    "# Step 3\n",
    "library = Library()\n",
    "book1 = Book(\"Book One\", \"Author A\")\n",
    "book2 = Book(\"Book Two\", \"Author B\")\n",
    "library.add_book(book1)\n",
    "library.add_book(book2)\n",
    "\n",
    "# Step 4\n",
    "library.list_books()\n"
   ]
  },
  {
   "cell_type": "markdown",
   "id": "f23a3338",
   "metadata": {},
   "source": [
    "# task 10"
   ]
  },
  {
   "cell_type": "code",
   "execution_count": 25,
   "id": "b753301e",
   "metadata": {},
   "outputs": [
    {
     "name": "stdout",
     "output_type": "stream",
     "text": [
      "Computer Science\n",
      "Mathematics\n",
      "Physics\n"
     ]
    }
   ],
   "source": [
    "class University:\n",
    "    def __init__(self, name):\n",
    "        self.name = name\n",
    "        self.departments = []\n",
    "\n",
    "    class Department:\n",
    "        def __init__(self, name):\n",
    "            self.name = name\n",
    "\n",
    "    def add_department(self, department_name):\n",
    "        department = self.Department(department_name)\n",
    "        self.departments.append(department)\n",
    "\n",
    "    def list_departments(self):\n",
    "        for dept in self.departments:\n",
    "            print(dept.name)\n",
    "\n",
    "# Step 4\n",
    "uni = University(\"My University\")\n",
    "uni.add_department(\"Computer Science\")\n",
    "uni.add_department(\"Mathematics\")\n",
    "uni.add_department(\"Physics\")\n",
    "\n",
    "# Step 5\n",
    "uni.list_departments()\n"
   ]
  },
  {
   "cell_type": "code",
   "execution_count": null,
   "id": "d18ee94a",
   "metadata": {},
   "outputs": [],
   "source": []
  }
 ],
 "metadata": {
  "kernelspec": {
   "display_name": "Python 3 (ipykernel)",
   "language": "python",
   "name": "python3"
  },
  "language_info": {
   "codemirror_mode": {
    "name": "ipython",
    "version": 3
   },
   "file_extension": ".py",
   "mimetype": "text/x-python",
   "name": "python",
   "nbconvert_exporter": "python",
   "pygments_lexer": "ipython3",
   "version": "3.11.3"
  }
 },
 "nbformat": 4,
 "nbformat_minor": 5
}
