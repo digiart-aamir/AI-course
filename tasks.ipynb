{
 "cells": [
  {
   "cell_type": "markdown",
   "id": "1f781956",
   "metadata": {},
   "source": [
    "# task1 "
   ]
  },
  {
   "cell_type": "code",
   "execution_count": 1,
   "id": "0c8bf1a6",
   "metadata": {},
   "outputs": [
    {
     "name": "stdout",
     "output_type": "stream",
     "text": [
      "Hello World\n"
     ]
    }
   ],
   "source": [
    "message = \"Hello World\"\n",
    "print(message)"
   ]
  },
  {
   "cell_type": "markdown",
   "id": "a953ef05",
   "metadata": {},
   "source": [
    "# task 2 "
   ]
  },
  {
   "cell_type": "code",
   "execution_count": 2,
   "id": "a7f5abeb",
   "metadata": {},
   "outputs": [
    {
     "name": "stdout",
     "output_type": "stream",
     "text": [
      "28\n"
     ]
    }
   ],
   "source": [
    "n1= 4\n",
    "n2= 7\n",
    "\n",
    "product = n1*n2\n",
    "print(product)"
   ]
  },
  {
   "cell_type": "markdown",
   "id": "3f48f91e",
   "metadata": {},
   "source": [
    "# task 3"
   ]
  },
  {
   "cell_type": "code",
   "execution_count": 8,
   "id": "2532f7eb",
   "metadata": {},
   "outputs": [
    {
     "name": "stdout",
     "output_type": "stream",
     "text": [
      "['carret', 'onion', 'salad', 'potato']\n"
     ]
    }
   ],
   "source": [
    "veg = [\"carret\", \"onion\", \"salad\", \"potato\" ]\n",
    "print(veg)"
   ]
  },
  {
   "cell_type": "markdown",
   "id": "6ca8f3e2",
   "metadata": {},
   "source": [
    "# task 4 "
   ]
  },
  {
   "cell_type": "code",
   "execution_count": 9,
   "id": "92c1f9e5",
   "metadata": {},
   "outputs": [
    {
     "data": {
      "text/plain": [
       "['carret', 'onion', 'salad', 'potato', 'tomato']"
      ]
     },
     "execution_count": 9,
     "metadata": {},
     "output_type": "execute_result"
    }
   ],
   "source": [
    "#add to list \n",
    "veg.append(\"tomato\")\n",
    "veg"
   ]
  },
  {
   "cell_type": "code",
   "execution_count": 10,
   "id": "eab1e58b",
   "metadata": {},
   "outputs": [
    {
     "data": {
      "text/plain": [
       "['onion', 'salad', 'potato', 'tomato']"
      ]
     },
     "execution_count": 10,
     "metadata": {},
     "output_type": "execute_result"
    }
   ],
   "source": [
    "# drop from list\n",
    "veg.remove(\"carret\")\n",
    "veg"
   ]
  },
  {
   "cell_type": "markdown",
   "id": "d11f4627",
   "metadata": {},
   "source": [
    "# task 5"
   ]
  },
  {
   "cell_type": "code",
   "execution_count": 15,
   "id": "040291a7",
   "metadata": {},
   "outputs": [
    {
     "name": "stdout",
     "output_type": "stream",
     "text": [
      "Hello World\n"
     ]
    }
   ],
   "source": [
    "str1 = \"Hello\"\n",
    "str2 = \"World\"\n",
    "result = str1 +\" \"+ str2\n",
    "print(result) \n"
   ]
  },
  {
   "cell_type": "markdown",
   "id": "6324688d",
   "metadata": {},
   "source": [
    "# task 6"
   ]
  },
  {
   "cell_type": "code",
   "execution_count": 3,
   "id": "e8b165ce",
   "metadata": {},
   "outputs": [
    {
     "name": "stdout",
     "output_type": "stream",
     "text": [
      "numers in a list 2\n",
      "numers in a list 3\n",
      "numers in a list 4\n",
      "numers in a list 5\n",
      "numers in a list 6\n",
      "numers in a list 5\n",
      "numers in a list 6\n",
      "numers in a list 8\n",
      "numers in a list 8\n",
      "numers in a list 8\n"
     ]
    }
   ],
   "source": [
    "# print a loop in python\n",
    "num = [2,3,4,5,6,5,6,8,8,8]\n",
    "\n",
    "for a in num:\n",
    "    print(\"numers in a list\", a)"
   ]
  },
  {
   "cell_type": "code",
   "execution_count": 6,
   "id": "10662a86",
   "metadata": {},
   "outputs": [
    {
     "name": "stdout",
     "output_type": "stream",
     "text": [
      "1\n",
      "2\n",
      "3\n",
      "4\n",
      "5\n",
      "6\n",
      "7\n",
      "8\n",
      "9\n",
      "10\n"
     ]
    }
   ],
   "source": [
    "for a in range(1,11):\n",
    "    print(a)"
   ]
  },
  {
   "cell_type": "code",
   "execution_count": 8,
   "id": "bedbb925",
   "metadata": {},
   "outputs": [
    {
     "name": "stdout",
     "output_type": "stream",
     "text": [
      "[9 5 0 1 8]\n",
      "sum is equal to  23\n"
     ]
    }
   ],
   "source": [
    "import numpy as np\n",
    "\n",
    "num = np.random.randint(10, size=(5))\n",
    "sum=0\n",
    "\n",
    "print(num)\n",
    "for n in num:\n",
    "    sum = sum+n\n",
    "    \n",
    "print(\"sum is equal to \" ,sum)"
   ]
  },
  {
   "cell_type": "code",
   "execution_count": 11,
   "id": "ec7cd013",
   "metadata": {},
   "outputs": [
    {
     "name": "stdout",
     "output_type": "stream",
     "text": [
      "[-6 -6 -1  3  7]\n",
      "sub is equal to  3\n"
     ]
    }
   ],
   "source": [
    "import numpy as np\n",
    "\n",
    "num = np.random.randint(-10,10, size=(5))\n",
    "sub=0\n",
    "\n",
    "print(num)\n",
    "for n in num:\n",
    "    sub = sub-n\n",
    "    \n",
    "print(\"sub is equal to \" ,sub)"
   ]
  },
  {
   "cell_type": "code",
   "execution_count": 12,
   "id": "0df0fe4e",
   "metadata": {},
   "outputs": [
    {
     "name": "stdout",
     "output_type": "stream",
     "text": [
      "[  2   2  -7   7 -10]\n",
      "product is equal to  1960\n"
     ]
    }
   ],
   "source": [
    "import numpy as np\n",
    "\n",
    "num = np.random.randint(-10,10, size=(5))\n",
    "pro=1\n",
    "\n",
    "print(num)\n",
    "for n in num:\n",
    "    pro = pro*n\n",
    "    \n",
    "print(\"product is equal to \" ,pro)"
   ]
  },
  {
   "cell_type": "code",
   "execution_count": 13,
   "id": "cdaef728",
   "metadata": {},
   "outputs": [
    {
     "name": "stdout",
     "output_type": "stream",
     "text": [
      "[6 6 7 4 2]\n",
      "sum is equal to  25\n",
      "average is equal to  5.0\n"
     ]
    }
   ],
   "source": [
    "import numpy as np\n",
    "\n",
    "num = np.random.randint(10, size=(5))\n",
    "sum=0\n",
    "\n",
    "print(num)\n",
    "for n in num:\n",
    "    sum = sum+n\n",
    "    \n",
    "print(\"sum is equal to \" ,sum)\n",
    "print(\"average is equal to \" ,sum/5)"
   ]
  },
  {
   "cell_type": "code",
   "execution_count": null,
   "id": "34ac8031",
   "metadata": {},
   "outputs": [],
   "source": []
  }
 ],
 "metadata": {
  "kernelspec": {
   "display_name": "Python 3 (ipykernel)",
   "language": "python",
   "name": "python3"
  },
  "language_info": {
   "codemirror_mode": {
    "name": "ipython",
    "version": 3
   },
   "file_extension": ".py",
   "mimetype": "text/x-python",
   "name": "python",
   "nbconvert_exporter": "python",
   "pygments_lexer": "ipython3",
   "version": "3.11.3"
  }
 },
 "nbformat": 4,
 "nbformat_minor": 5
}
