{
 "cells": [
  {
   "cell_type": "code",
   "execution_count": 29,
   "id": "88d7766f",
   "metadata": {},
   "outputs": [],
   "source": [
    "from dataclasses import dataclass"
   ]
  },
  {
   "cell_type": "markdown",
   "id": "32a5999d",
   "metadata": {},
   "source": [
    "# tasks "
   ]
  },
  {
   "cell_type": "markdown",
   "id": "c5040113",
   "metadata": {},
   "source": [
    "> task 1"
   ]
  },
  {
   "cell_type": "code",
   "execution_count": 30,
   "id": "c626558a",
   "metadata": {},
   "outputs": [
    {
     "name": "stdout",
     "output_type": "stream",
     "text": [
      "employee(name='Alice', position='manager', salary=303083)\n"
     ]
    }
   ],
   "source": [
    "@dataclass\n",
    "class employee:\n",
    "    name: str\n",
    "    position: str= \"manager\"\n",
    "    salary: int = 303083\n",
    "\n",
    "person1 = employee(name=\"Alice\")\n",
    "print(person1)\n"
   ]
  },
  {
   "cell_type": "markdown",
   "id": "13545a8d",
   "metadata": {},
   "source": [
    "> task 2"
   ]
  },
  {
   "cell_type": "code",
   "execution_count": 32,
   "id": "3b3d2f74",
   "metadata": {},
   "outputs": [
    {
     "name": "stdout",
     "output_type": "stream",
     "text": [
      "Rectangle: Rectangle(width=10.0, height=5.0)\n",
      "Area: 50.0\n"
     ]
    }
   ],
   "source": [
    "@dataclass\n",
    "class Rectangle:\n",
    "    width: float\n",
    "    height: float\n",
    "\n",
    "    def area(self) -> float:\n",
    "        return self.width * self.height\n",
    "\n",
    "rect = Rectangle(width=10.0, height=5.0)\n",
    "print(f\"Rectangle: {rect}\")\n",
    "print(f\"Area: {rect.area()}\")\n"
   ]
  },
  {
   "cell_type": "markdown",
   "id": "4b9e4e82",
   "metadata": {},
   "source": [
    "> task 3"
   ]
  },
  {
   "cell_type": "code",
   "execution_count": 33,
   "id": "0294f151",
   "metadata": {},
   "outputs": [
    {
     "name": "stdout",
     "output_type": "stream",
     "text": [
      "book (title=Jannat k patay, author=nimra ahmed)\n"
     ]
    }
   ],
   "source": [
    "from dataclasses import dataclass\n",
    "\n",
    "@dataclass\n",
    "class book:\n",
    "    def __init__(self, title, author):\n",
    "        self.title = title\n",
    "        self.author = author\n",
    "    \n",
    "    def __str__(self):\n",
    "        return f\"book (title={self.title}, author={self.author})\"\n",
    "\n",
    "book = book(title=\"Jannat k patay\", author=\"nimra ahmed\")\n",
    "print(book)\n"
   ]
  },
  {
   "cell_type": "markdown",
   "id": "ad9408c3",
   "metadata": {},
   "source": [
    "> task 4"
   ]
  },
  {
   "cell_type": "code",
   "execution_count": 17,
   "id": "9d2f8049",
   "metadata": {},
   "outputs": [
    {
     "name": "stdout",
     "output_type": "stream",
     "text": [
      "MyClass(value=60)\n"
     ]
    }
   ],
   "source": [
    "class MyClass:\n",
    "    def __init__(self, value):\n",
    "        self.value = value\n",
    "\n",
    "    def __add__(self, other):\n",
    "        return MyClass(self.value + other.value)\n",
    "    \n",
    "    def __sub__(self, other):\n",
    "        return MyClass(self.value - other.value)\n",
    "    \n",
    "    def __str__(self):\n",
    "        return f\"MyClass(value={self.value})\"\n",
    "\n",
    "obj1 = MyClass(40)\n",
    "obj2 = MyClass(20)\n",
    "result = obj1 + obj2\n",
    "print(result)\n"
   ]
  },
  {
   "cell_type": "code",
   "execution_count": 18,
   "id": "b29c9a15",
   "metadata": {},
   "outputs": [
    {
     "name": "stdout",
     "output_type": "stream",
     "text": [
      "MyClass(value=20)\n"
     ]
    }
   ],
   "source": [
    "result = obj1 - obj2\n",
    "print(result)"
   ]
  },
  {
   "cell_type": "markdown",
   "id": "bd57636a",
   "metadata": {},
   "source": [
    "> task 5"
   ]
  },
  {
   "cell_type": "code",
   "execution_count": 27,
   "id": "508d801e",
   "metadata": {},
   "outputs": [
    {
     "name": "stdout",
     "output_type": "stream",
     "text": [
      "5\n",
      "True\n",
      "False\n"
     ]
    }
   ],
   "source": [
    "class customlist:\n",
    "    def __init__(self, items):\n",
    "        self.items = items\n",
    "\n",
    "    def __len__(self):\n",
    "        return len(self.items)\n",
    "    \n",
    "    def __contains__(self, item):\n",
    "        return item in self.items\n",
    "\n",
    "\n",
    "customlist = customlist([1, 2, 3, 4, 5])\n",
    "\n",
    "# len\n",
    "print(len(customlist))\n",
    "\n",
    "#cotains\n",
    "print(2 in customlist)\n",
    "print(50 in customlist)\n"
   ]
  },
  {
   "cell_type": "markdown",
   "id": "e1a1a86c",
   "metadata": {},
   "source": [
    "> task 6"
   ]
  },
  {
   "cell_type": "code",
   "execution_count": 21,
   "id": "0c50883c",
   "metadata": {},
   "outputs": [
    {
     "name": "stdout",
     "output_type": "stream",
     "text": [
      "40\n"
     ]
    }
   ],
   "source": [
    "class MyList:\n",
    "    def __init__(self, items):\n",
    "        self.items = items\n",
    "\n",
    "    def __getitem__(self, index):\n",
    "        return self.items[index]\n",
    "\n",
    "    def __setitem__(self, index, value):\n",
    "        self.items[index] = value\n",
    "        \n",
    "    def __delitem__(self, index):\n",
    "        del self.items[index]\n",
    "\n",
    "my_list = MyList([10, 20, 30, 40])\n",
    "\n",
    "#set item\n",
    "my_list[2] = 100\n",
    "\n",
    "\n",
    "#del item \n",
    "del my_list[1]\n",
    "\n",
    "\n",
    "#get item \n",
    "print(my_list[2])\n",
    "\n"
   ]
  },
  {
   "cell_type": "code",
   "execution_count": null,
   "id": "e3ffd0a6",
   "metadata": {},
   "outputs": [],
   "source": []
  }
 ],
 "metadata": {
  "kernelspec": {
   "display_name": "Python 3 (ipykernel)",
   "language": "python",
   "name": "python3"
  },
  "language_info": {
   "codemirror_mode": {
    "name": "ipython",
    "version": 3
   },
   "file_extension": ".py",
   "mimetype": "text/x-python",
   "name": "python",
   "nbconvert_exporter": "python",
   "pygments_lexer": "ipython3",
   "version": "3.11.3"
  }
 },
 "nbformat": 4,
 "nbformat_minor": 5
}
