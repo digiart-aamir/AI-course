{
 "cells": [
  {
   "cell_type": "markdown",
   "id": "1d58ebda",
   "metadata": {},
   "source": [
    "# tasks 12 july "
   ]
  },
  {
   "cell_type": "markdown",
   "id": "82ef0a0c",
   "metadata": {},
   "source": [
    "## task 1 "
   ]
  },
  {
   "cell_type": "code",
   "execution_count": 6,
   "id": "e954018e",
   "metadata": {},
   "outputs": [],
   "source": [
    "import numpy as np"
   ]
  },
  {
   "cell_type": "code",
   "execution_count": 7,
   "id": "8b4f8eae",
   "metadata": {},
   "outputs": [],
   "source": [
    "arr = np.arange(1, 11)"
   ]
  },
  {
   "cell_type": "code",
   "execution_count": 8,
   "id": "a956d2c6",
   "metadata": {},
   "outputs": [
    {
     "name": "stdout",
     "output_type": "stream",
     "text": [
      "Array: [ 1  2  3  4  5  6  7  8  9 10]\n",
      "Sum: 55\n",
      "Mean: 5.5\n",
      "Minimum: 1\n",
      "Maximum: 10\n"
     ]
    }
   ],
   "source": [
    "print(\"Array:\", arr)\n",
    "print(\"Sum:\", np.sum(arr))\n",
    "print(\"Mean:\", np.mean(arr))\n",
    "print(\"Minimum:\", np.min(arr))\n",
    "print(\"Maximum:\", np.max(arr))"
   ]
  },
  {
   "cell_type": "markdown",
   "id": "2c1740a2",
   "metadata": {},
   "source": [
    "## task 2 "
   ]
  },
  {
   "cell_type": "code",
   "execution_count": 16,
   "id": "aa7bd7fd",
   "metadata": {},
   "outputs": [
    {
     "name": "stdout",
     "output_type": "stream",
     "text": [
      "Array:\n",
      "[[11 19  7 17]\n",
      " [ 8 17 14 14]\n",
      " [ 6  3 12  2]\n",
      " [18  7 11  6]]\n"
     ]
    }
   ],
   "source": [
    "arr = np.random.randint(1, 21, size=(4, 4))\n",
    "\n",
    "print(\"Array:\")\n",
    "print(arr)"
   ]
  },
  {
   "cell_type": "code",
   "execution_count": 17,
   "id": "63abbf28",
   "metadata": {},
   "outputs": [
    {
     "name": "stdout",
     "output_type": "stream",
     "text": [
      "Shape: (4, 4)\n",
      "Number of dimensions: 2\n",
      "Data type: int32\n"
     ]
    }
   ],
   "source": [
    "print(\"Shape:\", arr.shape)\n",
    "\n",
    "print(\"Number of dimensions:\", arr.ndim)\n",
    "\n",
    "print(\"Data type:\", arr.dtype)"
   ]
  },
  {
   "cell_type": "markdown",
   "id": "c540d96f",
   "metadata": {},
   "source": [
    "## task 3"
   ]
  },
  {
   "cell_type": "code",
   "execution_count": 12,
   "id": "663914b6",
   "metadata": {},
   "outputs": [],
   "source": [
    "arr1 = np.array([[1, 2], [3, 4]])\n",
    "arr2 = np.array([[5, 6], [7, 8]])"
   ]
  },
  {
   "cell_type": "code",
   "execution_count": 13,
   "id": "0c075fb2",
   "metadata": {},
   "outputs": [
    {
     "name": "stdout",
     "output_type": "stream",
     "text": [
      "Array 1:\n",
      "[[1 2]\n",
      " [3 4]]\n",
      "Array 2:\n",
      "[[5 6]\n",
      " [7 8]]\n"
     ]
    }
   ],
   "source": [
    "print(\"Array 1:\")\n",
    "print(arr1)\n",
    "print(\"Array 2:\")\n",
    "print(arr2)"
   ]
  },
  {
   "cell_type": "code",
   "execution_count": 14,
   "id": "ab299f7f",
   "metadata": {},
   "outputs": [
    {
     "name": "stdout",
     "output_type": "stream",
     "text": [
      "Concatenated along rows:\n",
      "[[1 2]\n",
      " [3 4]\n",
      " [5 6]\n",
      " [7 8]]\n"
     ]
    }
   ],
   "source": [
    "concat_rows = np.concatenate((arr1, arr2), axis=0)\n",
    "print(\"Concatenated along rows:\")\n",
    "print(concat_rows)"
   ]
  },
  {
   "cell_type": "code",
   "execution_count": 15,
   "id": "7fa4784f",
   "metadata": {},
   "outputs": [
    {
     "name": "stdout",
     "output_type": "stream",
     "text": [
      "Concatenated along columns:\n",
      "[[1 2 5 6]\n",
      " [3 4 7 8]]\n"
     ]
    }
   ],
   "source": [
    "concat_cols = np.concatenate((arr1, arr2), axis=1)\n",
    "print(\"Concatenated along columns:\")\n",
    "print(concat_cols)"
   ]
  },
  {
   "cell_type": "markdown",
   "id": "2ba56354",
   "metadata": {},
   "source": [
    "## task 4"
   ]
  },
  {
   "cell_type": "code",
   "execution_count": 18,
   "id": "e8f62b7c",
   "metadata": {},
   "outputs": [],
   "source": [
    "arr = np.arange(1, 6)"
   ]
  },
  {
   "cell_type": "code",
   "execution_count": 19,
   "id": "7451f7d0",
   "metadata": {},
   "outputs": [
    {
     "name": "stdout",
     "output_type": "stream",
     "text": [
      "Original array: [1 2 3 4 5]\n"
     ]
    }
   ],
   "source": [
    "print(\"Original array:\", arr)"
   ]
  },
  {
   "cell_type": "code",
   "execution_count": 23,
   "id": "2a4a40b9",
   "metadata": {},
   "outputs": [
    {
     "name": "stdout",
     "output_type": "stream",
     "text": [
      "Multiplied by 2: [ 2  4  6  8 10]\n"
     ]
    }
   ],
   "source": [
    "mult_2 = arr * 2\n",
    "print(\"Multiplied by 2:\", mult_2)"
   ]
  },
  {
   "cell_type": "code",
   "execution_count": 24,
   "id": "3df712c9",
   "metadata": {},
   "outputs": [
    {
     "name": "stdout",
     "output_type": "stream",
     "text": [
      "Added 5: [ 6  7  8  9 10]\n",
      "Squared: [ 1  4  9 16 25]\n"
     ]
    }
   ],
   "source": [
    "add_5 = arr + 5\n",
    "print(\"Added 5:\", add_5)\n"
   ]
  },
  {
   "cell_type": "code",
   "execution_count": 25,
   "id": "783f6e56",
   "metadata": {},
   "outputs": [
    {
     "name": "stdout",
     "output_type": "stream",
     "text": [
      "Squared: [ 1  4  9 16 25]\n"
     ]
    }
   ],
   "source": [
    "squared = arr ** 2\n",
    "print(\"Squared:\", squared)"
   ]
  },
  {
   "cell_type": "markdown",
   "id": "665eae9c",
   "metadata": {},
   "source": [
    "## task 5"
   ]
  },
  {
   "cell_type": "code",
   "execution_count": 27,
   "id": "56ac75c3",
   "metadata": {},
   "outputs": [],
   "source": [
    "arr = np.arange(1, 7).reshape(2, 3)"
   ]
  },
  {
   "cell_type": "code",
   "execution_count": 28,
   "id": "c81d35d2",
   "metadata": {},
   "outputs": [
    {
     "name": "stdout",
     "output_type": "stream",
     "text": [
      "Original array:\n",
      "[[1 2 3]\n",
      " [4 5 6]]\n"
     ]
    }
   ],
   "source": [
    "print(\"Original array:\")\n",
    "print(arr)"
   ]
  },
  {
   "cell_type": "code",
   "execution_count": 29,
   "id": "2fedbb49",
   "metadata": {},
   "outputs": [
    {
     "name": "stdout",
     "output_type": "stream",
     "text": [
      "Added 10:\n",
      "[[11 12 13]\n",
      " [14 15 16]]\n"
     ]
    }
   ],
   "source": [
    "add_10 = arr + 10\n",
    "print(\"Added 10:\")\n",
    "print(add_10)"
   ]
  },
  {
   "cell_type": "code",
   "execution_count": 30,
   "id": "425fd66a",
   "metadata": {},
   "outputs": [
    {
     "name": "stdout",
     "output_type": "stream",
     "text": [
      "Multiplied by 3:\n",
      "[[ 3  6  9]\n",
      " [12 15 18]]\n"
     ]
    }
   ],
   "source": [
    "mult_3 = arr * 3\n",
    "print(\"Multiplied by 3:\")\n",
    "print(mult_3)"
   ]
  },
  {
   "cell_type": "markdown",
   "id": "5235192d",
   "metadata": {},
   "source": [
    "## task 6"
   ]
  },
  {
   "cell_type": "code",
   "execution_count": 31,
   "id": "68b60a3b",
   "metadata": {},
   "outputs": [],
   "source": [
    "arr = np.array([[1, 2, 3], [4, 5, 6], [7, 8, 9]])"
   ]
  },
  {
   "cell_type": "code",
   "execution_count": 32,
   "id": "33afbbcb",
   "metadata": {},
   "outputs": [
    {
     "name": "stdout",
     "output_type": "stream",
     "text": [
      "Array:\n",
      "[[1 2 3]\n",
      " [4 5 6]\n",
      " [7 8 9]]\n",
      "Sum: 45\n",
      "Mean: 5.0\n",
      "Standard deviation: 2.581988897471611\n"
     ]
    }
   ],
   "source": [
    "print(\"Array:\")\n",
    "print(arr)\n",
    "\n",
    "print(\"Sum:\", np.sum(arr))\n",
    "\n",
    "print(\"Mean:\", np.mean(arr))\n",
    "\n",
    "print(\"Standard deviation:\", np.std(arr))"
   ]
  },
  {
   "cell_type": "markdown",
   "id": "d8909303",
   "metadata": {},
   "source": [
    "## task 7"
   ]
  },
  {
   "cell_type": "code",
   "execution_count": 36,
   "id": "21eec3aa",
   "metadata": {},
   "outputs": [
    {
     "name": "stdout",
     "output_type": "stream",
     "text": [
      "Original array: [0.11430625 0.72479189 0.8854303  0.11735781 0.6409762  0.7755005\n",
      " 0.61108773 0.39415973 0.4826453  0.06250349]\n"
     ]
    }
   ],
   "source": [
    "arr = np.random.rand(10)\n",
    "\n",
    "print(\"Original array:\", arr)"
   ]
  },
  {
   "cell_type": "code",
   "execution_count": 37,
   "id": "1c91658b",
   "metadata": {},
   "outputs": [
    {
     "name": "stdout",
     "output_type": "stream",
     "text": [
      "Sorted in ascending order: [0.06250349 0.11430625 0.11735781 0.39415973 0.4826453  0.61108773\n",
      " 0.6409762  0.72479189 0.7755005  0.8854303 ]\n",
      "Sorted in descending order: [0.8854303  0.7755005  0.72479189 0.6409762  0.61108773 0.4826453\n",
      " 0.39415973 0.11735781 0.11430625 0.06250349]\n"
     ]
    }
   ],
   "source": [
    "sorted_asc = np.sort(arr)\n",
    "print(\"Sorted in ascending order:\", sorted_asc)"
   ]
  },
  {
   "cell_type": "code",
   "execution_count": 38,
   "id": "a964f72a",
   "metadata": {},
   "outputs": [
    {
     "name": "stdout",
     "output_type": "stream",
     "text": [
      "Sorted in descending order: [0.8854303  0.7755005  0.72479189 0.6409762  0.61108773 0.4826453\n",
      " 0.39415973 0.11735781 0.11430625 0.06250349]\n"
     ]
    }
   ],
   "source": [
    "sorted_desc = np.sort(arr)[::-1]\n",
    "print(\"Sorted in descending order:\", sorted_desc)"
   ]
  },
  {
   "cell_type": "code",
   "execution_count": null,
   "id": "a5d7c83b",
   "metadata": {},
   "outputs": [],
   "source": []
  },
  {
   "cell_type": "markdown",
   "id": "45e2af46",
   "metadata": {},
   "source": [
    "# end of all the tasks"
   ]
  },
  {
   "cell_type": "code",
   "execution_count": null,
   "id": "eadee599",
   "metadata": {},
   "outputs": [],
   "source": []
  }
 ],
 "metadata": {
  "kernelspec": {
   "display_name": "Python 3 (ipykernel)",
   "language": "python",
   "name": "python3"
  },
  "language_info": {
   "codemirror_mode": {
    "name": "ipython",
    "version": 3
   },
   "file_extension": ".py",
   "mimetype": "text/x-python",
   "name": "python",
   "nbconvert_exporter": "python",
   "pygments_lexer": "ipython3",
   "version": "3.11.3"
  }
 },
 "nbformat": 4,
 "nbformat_minor": 5
}
