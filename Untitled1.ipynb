{
 "cells": [
  {
   "cell_type": "code",
   "execution_count": 1,
   "id": "90f0bed7",
   "metadata": {},
   "outputs": [],
   "source": [
    "class car:\n",
    "    \n",
    "    def __init__(self, make, model,year):\n",
    "        self.make = make\n",
    "        self.model = model\n",
    "        self.year = year\n",
    "        \n",
    "    def description(self):\n",
    "        print(f\"Car Details: \\n Make = {self.make} \\n Model = {self.model} \\n Year = {self.year}\")"
   ]
  },
  {
   "cell_type": "code",
   "execution_count": 2,
   "id": "191cbbe3",
   "metadata": {},
   "outputs": [],
   "source": [
    "class electricCar(car):\n",
    "    \n",
    "    def __init__(self, make, model,year, battery):\n",
    "        self.make = make\n",
    "        self.model = model\n",
    "        self.year = year\n",
    "        self.battery = battery\n",
    "        \n",
    "    def description(self):\n",
    "        print(f\"Car Details: \\n Make = {self.make} \\n Model = {self.model} \\n Year = {self.year} \\n Battery Size = {self.battery}\")"
   ]
  },
  {
   "cell_type": "code",
   "execution_count": 3,
   "id": "4cfc01b9",
   "metadata": {},
   "outputs": [],
   "source": [
    "tesla = electricCar(\"tesla\", \"v22\", \"2023\", \"3000\")"
   ]
  },
  {
   "cell_type": "code",
   "execution_count": 4,
   "id": "97ae0b62",
   "metadata": {},
   "outputs": [
    {
     "name": "stdout",
     "output_type": "stream",
     "text": [
      "Car Details: \n",
      " Make = tesla \n",
      " Model = v22 \n",
      " Year = 2023 \n",
      " Battery Size = 3000\n"
     ]
    }
   ],
   "source": [
    "tesla.description()"
   ]
  },
  {
   "cell_type": "code",
   "execution_count": 6,
   "id": "4268c013",
   "metadata": {},
   "outputs": [],
   "source": [
    "honda = car(\"honda\", \"v22\", \"2023\")"
   ]
  },
  {
   "cell_type": "code",
   "execution_count": 7,
   "id": "5e9b496f",
   "metadata": {},
   "outputs": [
    {
     "name": "stdout",
     "output_type": "stream",
     "text": [
      "Car Details: \n",
      " Make = honda \n",
      " Model = v22 \n",
      " Year = 2023\n"
     ]
    }
   ],
   "source": [
    "honda.description()"
   ]
  },
  {
   "cell_type": "markdown",
   "id": "aa1ef34e",
   "metadata": {},
   "source": [
    "# Association"
   ]
  },
  {
   "cell_type": "code",
   "execution_count": 12,
   "id": "2a370b2b",
   "metadata": {},
   "outputs": [],
   "source": [
    "class Car:\n",
    "    def __init__(self, make, model):\n",
    "        self.make = make\n",
    "        self.model = model\n",
    "\n",
    "    def start(self):\n",
    "        print(f\"The {self.make} {self.model} is starting.\")\n",
    "\n",
    "    def stop(self):\n",
    "        print(f\"The {self.make} {self.model} is stopping.\")\n"
   ]
  },
  {
   "cell_type": "code",
   "execution_count": 13,
   "id": "45c668cd",
   "metadata": {},
   "outputs": [],
   "source": [
    "class Driver:\n",
    "    def __init__(self, name, car):\n",
    "        self.name = name\n",
    "        self.car = car \n",
    "\n",
    "    def drive(self):\n",
    "        print(f\"{self.name} is driving the car.\")\n",
    "        self.car.start()\n",
    "\n",
    "    def park(self):\n",
    "        print(f\"{self.name} is parking the car.\")\n",
    "        self.car.stop()\n"
   ]
  },
  {
   "cell_type": "code",
   "execution_count": 14,
   "id": "e1e21b07",
   "metadata": {},
   "outputs": [
    {
     "name": "stdout",
     "output_type": "stream",
     "text": [
      "Aamir is driving the car.\n",
      "The Toyota Camry is starting.\n",
      "Aamir is parking the car.\n",
      "The Toyota Camry is stopping.\n"
     ]
    }
   ],
   "source": [
    "if __name__ == \"__main__\":\n",
    "    my_car = Car(\"Toyota\", \"Camry\")\n",
    "    driver = Driver(\"Aamir\", my_car)\n",
    "\n",
    "    driver.drive()\n",
    "    driver.park()\n"
   ]
  },
  {
   "cell_type": "markdown",
   "id": "25115270",
   "metadata": {},
   "source": [
    "association done "
   ]
  },
  {
   "cell_type": "code",
   "execution_count": 15,
   "id": "482b4a10",
   "metadata": {},
   "outputs": [],
   "source": [
    "class person:\n",
    "    def __init__(self,name, passport):\n",
    "        self.name = name\n",
    "        self.passport = passport\n",
    "    "
   ]
  },
  {
   "cell_type": "code",
   "execution_count": 16,
   "id": "c001bcba",
   "metadata": {},
   "outputs": [],
   "source": [
    "class passport:\n",
    "    def __init__(self,number):\n",
    "        self.number = number "
   ]
  },
  {
   "cell_type": "code",
   "execution_count": 17,
   "id": "92a16310",
   "metadata": {},
   "outputs": [],
   "source": [
    "passport = passport(\"244233\")"
   ]
  },
  {
   "cell_type": "code",
   "execution_count": 18,
   "id": "3d73977a",
   "metadata": {},
   "outputs": [],
   "source": [
    "person = person(\"aamir\", passport)"
   ]
  },
  {
   "cell_type": "code",
   "execution_count": 20,
   "id": "7b8c3679",
   "metadata": {},
   "outputs": [
    {
     "name": "stdout",
     "output_type": "stream",
     "text": [
      "personaamir, passport number 244233\n"
     ]
    }
   ],
   "source": [
    "print(f\"person{person.name}, passport number {person.passport.number}\")"
   ]
  },
  {
   "cell_type": "code",
   "execution_count": null,
   "id": "0a047461",
   "metadata": {},
   "outputs": [],
   "source": []
  }
 ],
 "metadata": {
  "kernelspec": {
   "display_name": "Python 3 (ipykernel)",
   "language": "python",
   "name": "python3"
  },
  "language_info": {
   "codemirror_mode": {
    "name": "ipython",
    "version": 3
   },
   "file_extension": ".py",
   "mimetype": "text/x-python",
   "name": "python",
   "nbconvert_exporter": "python",
   "pygments_lexer": "ipython3",
   "version": "3.11.3"
  }
 },
 "nbformat": 4,
 "nbformat_minor": 5
}
