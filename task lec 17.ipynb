{
 "cells": [
  {
   "cell_type": "code",
   "execution_count": 2,
   "id": "aba565ca",
   "metadata": {},
   "outputs": [],
   "source": [
    "# import libraries\n",
    "import pandas as pd\n",
    "import numpy as np"
   ]
  },
  {
   "cell_type": "markdown",
   "id": "dfeb2ab6",
   "metadata": {},
   "source": [
    "# task 1\n",
    "Basic Grouping and Aggregation"
   ]
  },
  {
   "cell_type": "code",
   "execution_count": 9,
   "id": "2737f023",
   "metadata": {},
   "outputs": [
    {
     "name": "stdout",
     "output_type": "stream",
     "text": [
      "department\n",
      "AI                    144300.0\n",
      "Computer hardware    2432000.0\n",
      "IT                    272970.0\n",
      "Software              294315.0\n",
      "networking            516950.0\n",
      "Name: salary, dtype: float64\n"
     ]
    }
   ],
   "source": [
    "# Given a DataFrame with columns Department and Salary, \n",
    "# group the data by Department and calculate the average salary for each department.\n",
    "\n",
    "data = {\"department\":['networking', 'AI', 'IT', 'Software', 'Computer hardware', 'AI', 'IT', 'Software','networking','AI'],\n",
    "       \"salary\":[124000,222000,342000,245300,2432000,111000,203940,343330,909900,99900]}\n",
    "\n",
    "# df\n",
    "df =  pd.DataFrame(data)\n",
    "\n",
    "avg_salary = df.groupby('department')['salary'].mean()\n",
    "\n",
    "print(avg_salary)"
   ]
  },
  {
   "cell_type": "markdown",
   "id": "10cd4411",
   "metadata": {},
   "source": [
    "# task 2\n",
    "Grouping and Filtering"
   ]
  },
  {
   "cell_type": "code",
   "execution_count": 17,
   "id": "90c56862",
   "metadata": {},
   "outputs": [
    {
     "name": "stdout",
     "output_type": "stream",
     "text": [
      "City\n",
      "krachi        247332\n",
      "lahore        953086\n",
      "rawalpindi    987654\n",
      "Name: population, dtype: int64\n"
     ]
    }
   ],
   "source": [
    "#Task: Given a DataFrame with columns City and Population, \n",
    "#group the data by City and filter out the cities with a total population greater than 100,000.\n",
    "\n",
    "data = {'City': ['krachi','lahore','islamabad', 'rawalpindi','krachi','lahore'],\n",
    "       'population': [12765,76543,2345,987654,234567,876543]}\n",
    "\n",
    "df = pd.DataFrame(data)\n",
    "\n",
    "population = df.groupby('City')['population'].sum() \n",
    "\n",
    "filterd_cities = population[population>100000]\n",
    "\n",
    "print(filterd_cities)"
   ]
  },
  {
   "cell_type": "markdown",
   "id": "4ea10a93",
   "metadata": {},
   "source": [
    "# task 3\n",
    "Grouping and Aggregating with Multiple Functions"
   ]
  },
  {
   "cell_type": "code",
   "execution_count": 22,
   "id": "260aae1a",
   "metadata": {},
   "outputs": [
    {
     "name": "stdout",
     "output_type": "stream",
     "text": [
      "total sale \n",
      " product\n",
      "GPU          1245\n",
      "harddisk    23654\n",
      "keybaord     2689\n",
      "mouse       50197\n",
      "ssd          4334\n",
      "touchpad    98765\n",
      "Name: sales, dtype: int64\n",
      "average sale  \n",
      " product\n",
      "GPU          1245.0\n",
      "harddisk    23654.0\n",
      "keybaord     1344.5\n",
      "mouse       25098.5\n",
      "ssd          2167.0\n",
      "touchpad    98765.0\n",
      "Name: sales, dtype: float64\n"
     ]
    }
   ],
   "source": [
    "# Given a DataFrame with columns Product and Sales,\n",
    "#group the data by Product and compute both the total sales \n",
    "#and the average sales for each product.\n",
    "\n",
    "data = {'product':['keybaord', 'mouse','harddisk', 'mouse','touchpad','ssd','ssd','keybaord','GPU'],\n",
    "       'sales':[2565,23654,23654,26543,98765,3458,876,124,1245]}\n",
    "\n",
    "df = pd.DataFrame(data)\n",
    "\n",
    "total_sale = df.groupby('product')['sales'].sum()\n",
    "avg_sale  = df.groupby('product')['sales'].mean()\n",
    "\n",
    "print(\"total sale \\n\", total_sale)\n",
    "print(\"average sale  \\n\", avg_sale)"
   ]
  },
  {
   "cell_type": "markdown",
   "id": "853c463f",
   "metadata": {},
   "source": [
    "# task 4\n",
    "Transformation Within Groups"
   ]
  },
  {
   "cell_type": "code",
   "execution_count": 33,
   "id": "400ee5cc",
   "metadata": {},
   "outputs": [
    {
     "data": {
      "text/plain": [
       "team\n",
       "A    14.318287\n",
       "B     6.197387\n",
       "C          NaN\n",
       "D     3.439979\n",
       "E          NaN\n",
       "Name: scores, dtype: float64"
      ]
     },
     "execution_count": 33,
     "metadata": {},
     "output_type": "execute_result"
    }
   ],
   "source": [
    "# Task: Given a DataFrame with columns Team and Score,\n",
    "#group the data by Team and normalize the scores within each team\n",
    "#(subtract the mean and divide by the standard deviation).\n",
    "\n",
    "data = {\"team\":['A','B','A','C','A','D','B','E','D','B'],\n",
    "       'scores':[14,66,24,25,24,97,53,35,23,12]}\n",
    "\n",
    "df = pd.DataFrame(data)\n",
    "\n",
    "total_score = df.groupby('team')['scores'].sum()\n",
    "avg_scores = df.groupby('team')['scores'].mean()\n",
    "std_scores = df.groupby('team')['scores'].std()\n",
    "\n",
    "normal_score = (total_score+avg_scores) / std_scores\n",
    "normal_score"
   ]
  },
  {
   "cell_type": "code",
   "execution_count": 36,
   "id": "6cc23303",
   "metadata": {},
   "outputs": [
    {
     "name": "stdout",
     "output_type": "stream",
     "text": [
      "0   -1.154701\n",
      "1    0.792414\n",
      "2    0.577350\n",
      "3         NaN\n",
      "4    0.577350\n",
      "5    0.707107\n",
      "6    0.331158\n",
      "7         NaN\n",
      "8   -0.707107\n",
      "9   -1.123572\n",
      "Name: scores, dtype: float64\n"
     ]
    }
   ],
   "source": [
    "# another method \n",
    "\n",
    "# Define a function to normalize scores\n",
    "def normalize(group):\n",
    "    return (group - group.mean()) / group.std()\n",
    "\n",
    "# Group by 'Team' and apply the normalization\n",
    "noram_score = df.groupby('team')['scores'].transform(normalize)\n",
    "\n",
    "print(noram_score)"
   ]
  },
  {
   "cell_type": "markdown",
   "id": "443ed485",
   "metadata": {},
   "source": [
    "# task 5\n",
    "Applying Multiple Aggregations to Different Columns"
   ]
  },
  {
   "cell_type": "code",
   "execution_count": 38,
   "id": "c76612b8",
   "metadata": {},
   "outputs": [
    {
     "data": {
      "text/html": [
       "<div>\n",
       "<style scoped>\n",
       "    .dataframe tbody tr th:only-of-type {\n",
       "        vertical-align: middle;\n",
       "    }\n",
       "\n",
       "    .dataframe tbody tr th {\n",
       "        vertical-align: top;\n",
       "    }\n",
       "\n",
       "    .dataframe thead th {\n",
       "        text-align: right;\n",
       "    }\n",
       "</style>\n",
       "<table border=\"1\" class=\"dataframe\">\n",
       "  <thead>\n",
       "    <tr style=\"text-align: right;\">\n",
       "      <th></th>\n",
       "      <th>Category</th>\n",
       "      <th>Total Amount</th>\n",
       "      <th>Average Amount</th>\n",
       "      <th>Count of Entries</th>\n",
       "      <th>Max Count</th>\n",
       "    </tr>\n",
       "  </thead>\n",
       "  <tbody>\n",
       "    <tr>\n",
       "      <th>0</th>\n",
       "      <td>A</td>\n",
       "      <td>300</td>\n",
       "      <td>150.0</td>\n",
       "      <td>2</td>\n",
       "      <td>3</td>\n",
       "    </tr>\n",
       "    <tr>\n",
       "      <th>1</th>\n",
       "      <td>B</td>\n",
       "      <td>450</td>\n",
       "      <td>225.0</td>\n",
       "      <td>2</td>\n",
       "      <td>5</td>\n",
       "    </tr>\n",
       "    <tr>\n",
       "      <th>2</th>\n",
       "      <td>C</td>\n",
       "      <td>600</td>\n",
       "      <td>300.0</td>\n",
       "      <td>2</td>\n",
       "      <td>6</td>\n",
       "    </tr>\n",
       "  </tbody>\n",
       "</table>\n",
       "</div>"
      ],
      "text/plain": [
       "  Category  Total Amount  Average Amount  Count of Entries  Max Count\n",
       "0        A           300           150.0                 2          3\n",
       "1        B           450           225.0                 2          5\n",
       "2        C           600           300.0                 2          6"
      ]
     },
     "execution_count": 38,
     "metadata": {},
     "output_type": "execute_result"
    }
   ],
   "source": [
    "#Given a DataFrame with columns Category, Amount, and Count, \n",
    "#group the data by Category and\n",
    "#apply different aggregation functions to Amount and Count.\n",
    "\n",
    "\n",
    "# Sample DataFrame (replace with your actual DataFrame)\n",
    "data = {\n",
    "    'Category': ['A', 'B', 'A', 'C', 'B', 'C'],\n",
    "    'Amount': [100, 150, 200, 250, 300, 350],\n",
    "    'Count': [1, 2, 3, 4, 5, 6]\n",
    "}\n",
    "\n",
    "df = pd.DataFrame(data)\n",
    "\n",
    "aggregated_data = df.groupby('Category').agg({\n",
    "    'Amount': ['sum', 'mean'],  \n",
    "    'Count': ['count', 'max']\n",
    "}).reset_index()\n",
    "\n",
    "\n",
    "aggregated_data.columns = ['Category', 'Total Amount', 'Average Amount', 'Count of Entries', 'Max Count']\n",
    "\n",
    "aggregated_data\n"
   ]
  },
  {
   "cell_type": "code",
   "execution_count": 44,
   "id": "f6937efe",
   "metadata": {},
   "outputs": [
    {
     "name": "stdout",
     "output_type": "stream",
     "text": [
      "inner class\n"
     ]
    }
   ],
   "source": [
    "class outerclass:\n",
    "    def __init__(self):\n",
    "        self.inner = inner_class() \n",
    "\n",
    "    def outer_method(self):\n",
    "        return self.inner.inner_method()  \n",
    "\n",
    "class inner_class:\n",
    "    def __init__(self):\n",
    "        self.value = \"inner class\"\n",
    "\n",
    "    def inner_method(self):\n",
    "        return self.value\n",
    "\n",
    "# Create an instance of outerclass\n",
    "outer = outerclass()\n",
    "\n",
    "# Call the outer_method\n",
    "print(outer.outer_method()) \n"
   ]
  },
  {
   "cell_type": "code",
   "execution_count": null,
   "id": "9058757a",
   "metadata": {},
   "outputs": [],
   "source": []
  }
 ],
 "metadata": {
  "kernelspec": {
   "display_name": "Python 3 (ipykernel)",
   "language": "python",
   "name": "python3"
  },
  "language_info": {
   "codemirror_mode": {
    "name": "ipython",
    "version": 3
   },
   "file_extension": ".py",
   "mimetype": "text/x-python",
   "name": "python",
   "nbconvert_exporter": "python",
   "pygments_lexer": "ipython3",
   "version": "3.11.3"
  }
 },
 "nbformat": 4,
 "nbformat_minor": 5
}
