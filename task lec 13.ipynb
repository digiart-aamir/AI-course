{
 "cells": [
  {
   "cell_type": "markdown",
   "id": "123094b9",
   "metadata": {},
   "source": [
    "# Task 1 \n",
    "Select Specific Rows"
   ]
  },
  {
   "cell_type": "code",
   "execution_count": 6,
   "id": "53bd7a9a",
   "metadata": {},
   "outputs": [
    {
     "data": {
      "text/html": [
       "<div>\n",
       "<style scoped>\n",
       "    .dataframe tbody tr th:only-of-type {\n",
       "        vertical-align: middle;\n",
       "    }\n",
       "\n",
       "    .dataframe tbody tr th {\n",
       "        vertical-align: top;\n",
       "    }\n",
       "\n",
       "    .dataframe thead th {\n",
       "        text-align: right;\n",
       "    }\n",
       "</style>\n",
       "<table border=\"1\" class=\"dataframe\">\n",
       "  <thead>\n",
       "    <tr style=\"text-align: right;\">\n",
       "      <th></th>\n",
       "      <th>x</th>\n",
       "      <th>y</th>\n",
       "    </tr>\n",
       "  </thead>\n",
       "  <tbody>\n",
       "    <tr>\n",
       "      <th>2</th>\n",
       "      <td>4</td>\n",
       "      <td>4</td>\n",
       "    </tr>\n",
       "    <tr>\n",
       "      <th>3</th>\n",
       "      <td>5</td>\n",
       "      <td>4</td>\n",
       "    </tr>\n",
       "    <tr>\n",
       "      <th>4</th>\n",
       "      <td>6</td>\n",
       "      <td>7</td>\n",
       "    </tr>\n",
       "  </tbody>\n",
       "</table>\n",
       "</div>"
      ],
      "text/plain": [
       "   x  y\n",
       "2  4  4\n",
       "3  5  4\n",
       "4  6  7"
      ]
     },
     "execution_count": 6,
     "metadata": {},
     "output_type": "execute_result"
    }
   ],
   "source": [
    "# Task: Create a DataFrame df with columns 'X' and 'Y'. Select rows with indices 2 to 4 (inclusive).\n",
    "\n",
    "import pandas as pd\n",
    "\n",
    "# dictionary \n",
    "data = {'x':[1,2,4,5,6,4,2],\n",
    "       'y':[5,3,4,4,7,6,4]}\n",
    "\n",
    "# dataframe \n",
    "df = pd.DataFrame(data)\n",
    "\n",
    "#print 2 3 and 4 rows\n",
    "df.loc[2:4]"
   ]
  },
  {
   "cell_type": "markdown",
   "id": "3be65d38",
   "metadata": {},
   "source": [
    "# Task 2\n",
    "Select a Subset of Rows and Columns"
   ]
  },
  {
   "cell_type": "code",
   "execution_count": 13,
   "id": "d11791f7",
   "metadata": {},
   "outputs": [
    {
     "data": {
      "text/html": [
       "<div>\n",
       "<style scoped>\n",
       "    .dataframe tbody tr th:only-of-type {\n",
       "        vertical-align: middle;\n",
       "    }\n",
       "\n",
       "    .dataframe tbody tr th {\n",
       "        vertical-align: top;\n",
       "    }\n",
       "\n",
       "    .dataframe thead th {\n",
       "        text-align: right;\n",
       "    }\n",
       "</style>\n",
       "<table border=\"1\" class=\"dataframe\">\n",
       "  <thead>\n",
       "    <tr style=\"text-align: right;\">\n",
       "      <th></th>\n",
       "      <th>A</th>\n",
       "      <th>C</th>\n",
       "    </tr>\n",
       "  </thead>\n",
       "  <tbody>\n",
       "    <tr>\n",
       "      <th>0</th>\n",
       "      <td>5</td>\n",
       "      <td>7</td>\n",
       "    </tr>\n",
       "    <tr>\n",
       "      <th>1</th>\n",
       "      <td>0</td>\n",
       "      <td>8</td>\n",
       "    </tr>\n",
       "    <tr>\n",
       "      <th>2</th>\n",
       "      <td>2</td>\n",
       "      <td>2</td>\n",
       "    </tr>\n",
       "  </tbody>\n",
       "</table>\n",
       "</div>"
      ],
      "text/plain": [
       "   A  C\n",
       "0  5  7\n",
       "1  0  8\n",
       "2  2  2"
      ]
     },
     "execution_count": 13,
     "metadata": {},
     "output_type": "execute_result"
    }
   ],
   "source": [
    "# Task: Given a DataFrame df with columns 'A', 'B', and 'C', select rows with indices 0 to 2 and columns 'A' and 'C'.\n",
    "\n",
    "import numpy as np\n",
    "\n",
    "# np array as data\n",
    "data = np.random.randint(10,size=(10,3))\n",
    "\n",
    "#convert np nd array to df\n",
    "df = pd.DataFrame(data, columns= ['A', 'B', 'C'])\n",
    "\n",
    "# selection \n",
    "df.loc[0:2, [\"A\",\"C\"]]"
   ]
  },
  {
   "cell_type": "markdown",
   "id": "7c6e0f65",
   "metadata": {},
   "source": [
    "# Task 3\n",
    "Select a Single Row by Label:"
   ]
  },
  {
   "cell_type": "code",
   "execution_count": 14,
   "id": "b8316dc9",
   "metadata": {},
   "outputs": [
    {
     "data": {
      "text/plain": [
       "A    31\n",
       "B    19\n",
       "C    43\n",
       "Name: 3, dtype: int32"
      ]
     },
     "execution_count": 14,
     "metadata": {},
     "output_type": "execute_result"
    }
   ],
   "source": [
    "# •\tTask: Create a DataFrame df and select the row with index 3.\n",
    "\n",
    "data = np.random.randint(50, size=(10,3))\n",
    "\n",
    "df = pd.DataFrame(data, columns=[\"A\",\"B\",\"C\"])\n",
    "\n",
    "df.iloc[3]"
   ]
  },
  {
   "cell_type": "markdown",
   "id": "8e5feec0",
   "metadata": {},
   "source": [
    "# Task 4\n",
    "Select Rows with Conditions"
   ]
  },
  {
   "cell_type": "code",
   "execution_count": 37,
   "id": "d552e676",
   "metadata": {},
   "outputs": [
    {
     "data": {
      "text/html": [
       "<div>\n",
       "<style scoped>\n",
       "    .dataframe tbody tr th:only-of-type {\n",
       "        vertical-align: middle;\n",
       "    }\n",
       "\n",
       "    .dataframe tbody tr th {\n",
       "        vertical-align: top;\n",
       "    }\n",
       "\n",
       "    .dataframe thead th {\n",
       "        text-align: right;\n",
       "    }\n",
       "</style>\n",
       "<table border=\"1\" class=\"dataframe\">\n",
       "  <thead>\n",
       "    <tr style=\"text-align: right;\">\n",
       "      <th></th>\n",
       "      <th>category</th>\n",
       "      <th>Values</th>\n",
       "    </tr>\n",
       "  </thead>\n",
       "  <tbody>\n",
       "    <tr>\n",
       "      <th>0</th>\n",
       "      <td>A</td>\n",
       "      <td>39</td>\n",
       "    </tr>\n",
       "    <tr>\n",
       "      <th>4</th>\n",
       "      <td>B</td>\n",
       "      <td>445</td>\n",
       "    </tr>\n",
       "    <tr>\n",
       "      <th>6</th>\n",
       "      <td>A</td>\n",
       "      <td>342</td>\n",
       "    </tr>\n",
       "    <tr>\n",
       "      <th>7</th>\n",
       "      <td>B</td>\n",
       "      <td>219</td>\n",
       "    </tr>\n",
       "    <tr>\n",
       "      <th>8</th>\n",
       "      <td>A</td>\n",
       "      <td>93</td>\n",
       "    </tr>\n",
       "    <tr>\n",
       "      <th>12</th>\n",
       "      <td>B</td>\n",
       "      <td>189</td>\n",
       "    </tr>\n",
       "    <tr>\n",
       "      <th>14</th>\n",
       "      <td>A</td>\n",
       "      <td>417</td>\n",
       "    </tr>\n",
       "    <tr>\n",
       "      <th>15</th>\n",
       "      <td>B</td>\n",
       "      <td>393</td>\n",
       "    </tr>\n",
       "    <tr>\n",
       "      <th>16</th>\n",
       "      <td>A</td>\n",
       "      <td>287</td>\n",
       "    </tr>\n",
       "    <tr>\n",
       "      <th>20</th>\n",
       "      <td>B</td>\n",
       "      <td>472</td>\n",
       "    </tr>\n",
       "    <tr>\n",
       "      <th>22</th>\n",
       "      <td>A</td>\n",
       "      <td>157</td>\n",
       "    </tr>\n",
       "    <tr>\n",
       "      <th>23</th>\n",
       "      <td>B</td>\n",
       "      <td>385</td>\n",
       "    </tr>\n",
       "  </tbody>\n",
       "</table>\n",
       "</div>"
      ],
      "text/plain": [
       "   category  Values\n",
       "0         A      39\n",
       "4         B     445\n",
       "6         A     342\n",
       "7         B     219\n",
       "8         A      93\n",
       "12        B     189\n",
       "14        A     417\n",
       "15        B     393\n",
       "16        A     287\n",
       "20        B     472\n",
       "22        A     157\n",
       "23        B     385"
      ]
     },
     "execution_count": 37,
     "metadata": {},
     "output_type": "execute_result"
    }
   ],
   "source": [
    "# •\tTask: Using a DataFrame df with columns 'Value' and 'Category', select rows where 'Category' is 'A' or 'B'.\n",
    "\n",
    "# dict \n",
    "cat = {\"category\": ['A','C','E','C','B','D','A','B','A','C','E','C','B','D','A','B','A','C','E','C','B','D','A','B']}\n",
    "val = np.random.randint(500, size=(len(cat['category'])))\n",
    "\n",
    "# dataframe \n",
    "df = pd.DataFrame(cat)\n",
    "df[\"Values\"]=val\n",
    "\n",
    "\n",
    "# select rows \n",
    "df[(df['category']== 'A') | (df['category']=='B')]\n"
   ]
  },
  {
   "cell_type": "markdown",
   "id": "434d52d7",
   "metadata": {},
   "source": [
    "# task 5\n",
    "Modify Values Using .loc[]:"
   ]
  },
  {
   "cell_type": "code",
   "execution_count": 41,
   "id": "01a2761f",
   "metadata": {},
   "outputs": [
    {
     "data": {
      "text/html": [
       "<div>\n",
       "<style scoped>\n",
       "    .dataframe tbody tr th:only-of-type {\n",
       "        vertical-align: middle;\n",
       "    }\n",
       "\n",
       "    .dataframe tbody tr th {\n",
       "        vertical-align: top;\n",
       "    }\n",
       "\n",
       "    .dataframe thead th {\n",
       "        text-align: right;\n",
       "    }\n",
       "</style>\n",
       "<table border=\"1\" class=\"dataframe\">\n",
       "  <thead>\n",
       "    <tr style=\"text-align: right;\">\n",
       "      <th></th>\n",
       "      <th>X</th>\n",
       "      <th>Y</th>\n",
       "    </tr>\n",
       "  </thead>\n",
       "  <tbody>\n",
       "    <tr>\n",
       "      <th>0</th>\n",
       "      <td>4</td>\n",
       "      <td>17</td>\n",
       "    </tr>\n",
       "    <tr>\n",
       "      <th>1</th>\n",
       "      <td>2</td>\n",
       "      <td>8</td>\n",
       "    </tr>\n",
       "    <tr>\n",
       "      <th>2</th>\n",
       "      <td>0</td>\n",
       "      <td>updated</td>\n",
       "    </tr>\n",
       "    <tr>\n",
       "      <th>3</th>\n",
       "      <td>14</td>\n",
       "      <td>10</td>\n",
       "    </tr>\n",
       "    <tr>\n",
       "      <th>4</th>\n",
       "      <td>9</td>\n",
       "      <td>2</td>\n",
       "    </tr>\n",
       "    <tr>\n",
       "      <th>5</th>\n",
       "      <td>10</td>\n",
       "      <td>18</td>\n",
       "    </tr>\n",
       "    <tr>\n",
       "      <th>6</th>\n",
       "      <td>18</td>\n",
       "      <td>2</td>\n",
       "    </tr>\n",
       "    <tr>\n",
       "      <th>7</th>\n",
       "      <td>18</td>\n",
       "      <td>16</td>\n",
       "    </tr>\n",
       "    <tr>\n",
       "      <th>8</th>\n",
       "      <td>8</td>\n",
       "      <td>18</td>\n",
       "    </tr>\n",
       "    <tr>\n",
       "      <th>9</th>\n",
       "      <td>7</td>\n",
       "      <td>17</td>\n",
       "    </tr>\n",
       "  </tbody>\n",
       "</table>\n",
       "</div>"
      ],
      "text/plain": [
       "    X        Y\n",
       "0   4       17\n",
       "1   2        8\n",
       "2   0  updated\n",
       "3  14       10\n",
       "4   9        2\n",
       "5  10       18\n",
       "6  18        2\n",
       "7  18       16\n",
       "8   8       18\n",
       "9   7       17"
      ]
     },
     "execution_count": 41,
     "metadata": {},
     "output_type": "execute_result"
    }
   ],
   "source": [
    "# •\tTask: Create a DataFrame df with columns 'X' and 'Y'. \n",
    "#Update the value in row 2 and column 'Y' to 'Updated'.\n",
    "\n",
    "data = np.random.randint(20, size=(10,2))\n",
    "\n",
    "df = pd.DataFrame(data, columns=[\"X\",\"Y\"])\n",
    "\n",
    "df.loc[2,[\"Y\"]]= 'updated'\n",
    "\n",
    "df"
   ]
  },
  {
   "cell_type": "markdown",
   "id": "0edaec7d",
   "metadata": {},
   "source": [
    "# Task 6\n",
    "Select Rows with Index Slice and All Columns:"
   ]
  },
  {
   "cell_type": "code",
   "execution_count": 43,
   "id": "856e7ce7",
   "metadata": {},
   "outputs": [
    {
     "data": {
      "text/html": [
       "<div>\n",
       "<style scoped>\n",
       "    .dataframe tbody tr th:only-of-type {\n",
       "        vertical-align: middle;\n",
       "    }\n",
       "\n",
       "    .dataframe tbody tr th {\n",
       "        vertical-align: top;\n",
       "    }\n",
       "\n",
       "    .dataframe thead th {\n",
       "        text-align: right;\n",
       "    }\n",
       "</style>\n",
       "<table border=\"1\" class=\"dataframe\">\n",
       "  <thead>\n",
       "    <tr style=\"text-align: right;\">\n",
       "      <th></th>\n",
       "      <th>a</th>\n",
       "      <th>b</th>\n",
       "      <th>c</th>\n",
       "      <th>d</th>\n",
       "      <th>e</th>\n",
       "    </tr>\n",
       "  </thead>\n",
       "  <tbody>\n",
       "    <tr>\n",
       "      <th>1</th>\n",
       "      <td>20</td>\n",
       "      <td>25</td>\n",
       "      <td>35</td>\n",
       "      <td>33</td>\n",
       "      <td>3</td>\n",
       "    </tr>\n",
       "    <tr>\n",
       "      <th>2</th>\n",
       "      <td>3</td>\n",
       "      <td>36</td>\n",
       "      <td>26</td>\n",
       "      <td>26</td>\n",
       "      <td>17</td>\n",
       "    </tr>\n",
       "  </tbody>\n",
       "</table>\n",
       "</div>"
      ],
      "text/plain": [
       "    a   b   c   d   e\n",
       "1  20  25  35  33   3\n",
       "2   3  36  26  26  17"
      ]
     },
     "execution_count": 43,
     "metadata": {},
     "output_type": "execute_result"
    }
   ],
   "source": [
    "#•\tTask: Given a DataFrame df with multiple columns, \n",
    "#select rows from index 1 to 3 and display all columns.\n",
    "\n",
    "data = np.random.randint(40,size=(20,5))\n",
    "\n",
    "df = pd.DataFrame(data, columns=[\"a\",'b','c','d','e'])\n",
    "\n",
    "df.iloc[1:3]"
   ]
  },
  {
   "cell_type": "markdown",
   "id": "78e2d222",
   "metadata": {},
   "source": [
    "# Task 7\n",
    "Select Rows and Exclude Specific Columns:\n"
   ]
  },
  {
   "cell_type": "code",
   "execution_count": 45,
   "id": "9572966b",
   "metadata": {},
   "outputs": [
    {
     "data": {
      "text/html": [
       "<div>\n",
       "<style scoped>\n",
       "    .dataframe tbody tr th:only-of-type {\n",
       "        vertical-align: middle;\n",
       "    }\n",
       "\n",
       "    .dataframe tbody tr th {\n",
       "        vertical-align: top;\n",
       "    }\n",
       "\n",
       "    .dataframe thead th {\n",
       "        text-align: right;\n",
       "    }\n",
       "</style>\n",
       "<table border=\"1\" class=\"dataframe\">\n",
       "  <thead>\n",
       "    <tr style=\"text-align: right;\">\n",
       "      <th></th>\n",
       "      <th>A</th>\n",
       "      <th>B</th>\n",
       "    </tr>\n",
       "  </thead>\n",
       "  <tbody>\n",
       "    <tr>\n",
       "      <th>0</th>\n",
       "      <td>0</td>\n",
       "      <td>3</td>\n",
       "    </tr>\n",
       "    <tr>\n",
       "      <th>1</th>\n",
       "      <td>8</td>\n",
       "      <td>8</td>\n",
       "    </tr>\n",
       "    <tr>\n",
       "      <th>2</th>\n",
       "      <td>4</td>\n",
       "      <td>3</td>\n",
       "    </tr>\n",
       "  </tbody>\n",
       "</table>\n",
       "</div>"
      ],
      "text/plain": [
       "   A  B\n",
       "0  0  3\n",
       "1  8  8\n",
       "2  4  3"
      ]
     },
     "execution_count": 45,
     "metadata": {},
     "output_type": "execute_result"
    }
   ],
   "source": [
    "# •\tTask: With a DataFrame df containing columns 'A', 'B', and 'C',\n",
    "#select rows from index 0 to 2 and exclude column 'B'.\n",
    "\n",
    "# np array as data\n",
    "data = np.random.randint(10,size=(10,3))\n",
    "\n",
    "#convert np nd array to df\n",
    "df = pd.DataFrame(data, columns= ['A', 'B', 'C'])\n",
    "\n",
    "df.loc[0:2, ['A','B']]"
   ]
  },
  {
   "cell_type": "markdown",
   "id": "07c5e5be",
   "metadata": {},
   "source": [
    "# task 8\n",
    "Select Rows Based on Index Labels:"
   ]
  },
  {
   "cell_type": "code",
   "execution_count": 47,
   "id": "2600fc45",
   "metadata": {},
   "outputs": [
    {
     "data": {
      "text/html": [
       "<div>\n",
       "<style scoped>\n",
       "    .dataframe tbody tr th:only-of-type {\n",
       "        vertical-align: middle;\n",
       "    }\n",
       "\n",
       "    .dataframe tbody tr th {\n",
       "        vertical-align: top;\n",
       "    }\n",
       "\n",
       "    .dataframe thead th {\n",
       "        text-align: right;\n",
       "    }\n",
       "</style>\n",
       "<table border=\"1\" class=\"dataframe\">\n",
       "  <thead>\n",
       "    <tr style=\"text-align: right;\">\n",
       "      <th></th>\n",
       "      <th>a</th>\n",
       "      <th>b</th>\n",
       "      <th>c</th>\n",
       "      <th>d</th>\n",
       "    </tr>\n",
       "  </thead>\n",
       "  <tbody>\n",
       "    <tr>\n",
       "      <th>b</th>\n",
       "      <td>7</td>\n",
       "      <td>1</td>\n",
       "      <td>37</td>\n",
       "      <td>31</td>\n",
       "    </tr>\n",
       "    <tr>\n",
       "      <th>d</th>\n",
       "      <td>38</td>\n",
       "      <td>32</td>\n",
       "      <td>25</td>\n",
       "      <td>28</td>\n",
       "    </tr>\n",
       "  </tbody>\n",
       "</table>\n",
       "</div>"
      ],
      "text/plain": [
       "    a   b   c   d\n",
       "b   7   1  37  31\n",
       "d  38  32  25  28"
      ]
     },
     "execution_count": 47,
     "metadata": {},
     "output_type": "execute_result"
    }
   ],
   "source": [
    "#•\tTask: Create a DataFrame df with index labels 'a', 'b', 'c', 'd'. Select rows with labels 'b' to 'd'.\n",
    "data = np.random.randint(40,size=(4,4))\n",
    "\n",
    "df = pd.DataFrame(data, columns=[\"a\",'b','c','d'], index=[\"a\",'b','c','d'])\n",
    "\n",
    "df.loc[['b','d']]"
   ]
  },
  {
   "cell_type": "markdown",
   "id": "3d1ed911",
   "metadata": {},
   "source": [
    "# task 9\n",
    "Select Rows by Condition and Columns:"
   ]
  },
  {
   "cell_type": "code",
   "execution_count": 48,
   "id": "87f9d229",
   "metadata": {},
   "outputs": [
    {
     "name": "stdout",
     "output_type": "stream",
     "text": [
      "1    Pass\n",
      "2    Pass\n",
      "4    Pass\n",
      "Name: Status, dtype: object\n"
     ]
    }
   ],
   "source": [
    "# •\tTask: Given a DataFrame df with columns 'Score' and 'Status', \n",
    "#select rows where 'Score' is greater than 50 and only show 'Status' column.\n",
    "\n",
    "data = {\n",
    "    'Score': [45, 67, 89, 34, 58],\n",
    "    'Status': ['Fail', 'Pass', 'Pass', 'Fail', 'Pass']\n",
    "}\n",
    "\n",
    "df = pd.DataFrame(data)\n",
    "\n",
    "\n",
    "selected_data = df.loc[df['Score'] > 50, 'Status']\n",
    "\n",
    "print(selected_data)"
   ]
  },
  {
   "cell_type": "markdown",
   "id": "218a7d60",
   "metadata": {},
   "source": [
    "# task 10\n",
    "Select Rows with .loc[] and Set New Index:"
   ]
  },
  {
   "cell_type": "code",
   "execution_count": 49,
   "id": "fa29a2ac",
   "metadata": {},
   "outputs": [
    {
     "data": {
      "text/html": [
       "<div>\n",
       "<style scoped>\n",
       "    .dataframe tbody tr th:only-of-type {\n",
       "        vertical-align: middle;\n",
       "    }\n",
       "\n",
       "    .dataframe tbody tr th {\n",
       "        vertical-align: top;\n",
       "    }\n",
       "\n",
       "    .dataframe thead th {\n",
       "        text-align: right;\n",
       "    }\n",
       "</style>\n",
       "<table border=\"1\" class=\"dataframe\">\n",
       "  <thead>\n",
       "    <tr style=\"text-align: right;\">\n",
       "      <th></th>\n",
       "      <th>Name</th>\n",
       "      <th>Age</th>\n",
       "    </tr>\n",
       "    <tr>\n",
       "      <th>ID</th>\n",
       "      <th></th>\n",
       "      <th></th>\n",
       "    </tr>\n",
       "  </thead>\n",
       "  <tbody>\n",
       "    <tr>\n",
       "      <th>1</th>\n",
       "      <td>Bob</td>\n",
       "      <td>30</td>\n",
       "    </tr>\n",
       "    <tr>\n",
       "      <th>2</th>\n",
       "      <td>Charlie</td>\n",
       "      <td>35</td>\n",
       "    </tr>\n",
       "    <tr>\n",
       "      <th>3</th>\n",
       "      <td>David</td>\n",
       "      <td>40</td>\n",
       "    </tr>\n",
       "  </tbody>\n",
       "</table>\n",
       "</div>"
      ],
      "text/plain": [
       "       Name  Age\n",
       "ID              \n",
       "1       Bob   30\n",
       "2   Charlie   35\n",
       "3     David   40"
      ]
     },
     "execution_count": 49,
     "metadata": {},
     "output_type": "execute_result"
    }
   ],
   "source": [
    "# •\tTask: Create a DataFrame df and set a new index using the 'ID' column. \n",
    "#Then select rows from index 1 to 3.\n",
    "\n",
    "\n",
    "data = {\n",
    "    'ID': [0, 1, 2, 3, 4],\n",
    "    'Name': ['Alice', 'Bob', 'Charlie', 'David', 'Eve'],\n",
    "    'Age': [25, 30, 35, 40, 45]\n",
    "}\n",
    "\n",
    "\n",
    "df = pd.DataFrame(data)\n",
    "\n",
    "df.set_index('ID', inplace=True)\n",
    "\n",
    "df.loc[1:3]"
   ]
  },
  {
   "cell_type": "code",
   "execution_count": null,
   "id": "d827ff70",
   "metadata": {},
   "outputs": [],
   "source": []
  }
 ],
 "metadata": {
  "kernelspec": {
   "display_name": "Python 3 (ipykernel)",
   "language": "python",
   "name": "python3"
  },
  "language_info": {
   "codemirror_mode": {
    "name": "ipython",
    "version": 3
   },
   "file_extension": ".py",
   "mimetype": "text/x-python",
   "name": "python",
   "nbconvert_exporter": "python",
   "pygments_lexer": "ipython3",
   "version": "3.11.3"
  }
 },
 "nbformat": 4,
 "nbformat_minor": 5
}
