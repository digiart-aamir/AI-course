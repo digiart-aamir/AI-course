{
 "cells": [
  {
   "cell_type": "code",
   "execution_count": null,
   "id": "f6527a9e",
   "metadata": {},
   "outputs": [],
   "source": [
    "class myclass:\n",
    "    def _init__(self, val):\n",
    "        self.value = value\n",
    "    \n",
    "    def __add__(self,b):\n",
    "        return "
   ]
  }
 ],
 "metadata": {
  "kernelspec": {
   "display_name": "Python 3 (ipykernel)",
   "language": "python",
   "name": "python3"
  },
  "language_info": {
   "codemirror_mode": {
    "name": "ipython",
    "version": 3
   },
   "file_extension": ".py",
   "mimetype": "text/x-python",
   "name": "python",
   "nbconvert_exporter": "python",
   "pygments_lexer": "ipython3",
   "version": "3.11.3"
  }
 },
 "nbformat": 4,
 "nbformat_minor": 5
}
