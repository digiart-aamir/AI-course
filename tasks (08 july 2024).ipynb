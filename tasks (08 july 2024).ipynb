{
 "cells": [
  {
   "cell_type": "markdown",
   "id": "d4b02433",
   "metadata": {},
   "source": [
    "# Tasks related to basic python"
   ]
  },
  {
   "cell_type": "markdown",
   "id": "446fbc3b",
   "metadata": {},
   "source": [
    "## task 1"
   ]
  },
  {
   "cell_type": "code",
   "execution_count": 1,
   "id": "3981e893",
   "metadata": {},
   "outputs": [
    {
     "name": "stdout",
     "output_type": "stream",
     "text": [
      "number is positive\n"
     ]
    }
   ],
   "source": [
    "n= 5\n",
    "\n",
    "# if else \n",
    "\n",
    "if n>0:\n",
    "    print(\"number is positive\")\n",
    "elif n<0:\n",
    "    print(\"number is negative\")\n",
    "else:\n",
    "    print(\"number is zero\")    "
   ]
  },
  {
   "cell_type": "markdown",
   "id": "54a18fe6",
   "metadata": {},
   "source": [
    "## task 2"
   ]
  },
  {
   "cell_type": "code",
   "execution_count": 2,
   "id": "9184cd21",
   "metadata": {},
   "outputs": [
    {
     "name": "stdout",
     "output_type": "stream",
     "text": [
      "person is senoir\n"
     ]
    }
   ],
   "source": [
    "age= 45\n",
    "\n",
    "# if else \n",
    "\n",
    "if age<60:\n",
    "    print(\"person is senoir\")\n",
    "elif age<20:\n",
    "    print(\"person is adult\")\n",
    "elif age<12:\n",
    "    print(\"person is teenager\") \n",
    "else: \n",
    "    print(\"person is chid\")"
   ]
  },
  {
   "cell_type": "markdown",
   "id": "528c820d",
   "metadata": {},
   "source": [
    "## task 3"
   ]
  },
  {
   "cell_type": "code",
   "execution_count": 3,
   "id": "ae79ed85",
   "metadata": {},
   "outputs": [
    {
     "name": "stdout",
     "output_type": "stream",
     "text": [
      "0\n",
      "1\n",
      "2\n",
      "3\n",
      "4\n",
      "5\n",
      "6\n",
      "7\n",
      "8\n",
      "9\n"
     ]
    }
   ],
   "source": [
    "for i in range(10):\n",
    "    print(i)"
   ]
  },
  {
   "cell_type": "markdown",
   "id": "18ac3930",
   "metadata": {},
   "source": [
    "## task 4"
   ]
  },
  {
   "cell_type": "code",
   "execution_count": 5,
   "id": "fae65c75",
   "metadata": {},
   "outputs": [],
   "source": [
    "# factorial of given number in python\n",
    "\n",
    "def factorial(n):\n",
    "    if n == 0 or n == 1:\n",
    "        return 1\n",
    "    else:\n",
    "        return n * factorial(n - 1)\n",
    "\n"
   ]
  },
  {
   "cell_type": "code",
   "execution_count": 17,
   "id": "586e27dd",
   "metadata": {},
   "outputs": [
    {
     "name": "stdout",
     "output_type": "stream",
     "text": [
      "Enter a number: 5\n",
      "The factorial of 5 is 120\n"
     ]
    }
   ],
   "source": [
    "# Input: number\n",
    "number = int(input(\"Enter a number: \"))\n",
    "\n",
    "result = factorial(number)\n",
    "\n",
    "print(f\"The factorial of {number} is {result}\")"
   ]
  },
  {
   "cell_type": "code",
   "execution_count": 16,
   "id": "ac0798b4",
   "metadata": {},
   "outputs": [
    {
     "data": {
      "text/plain": [
       "479001600"
      ]
     },
     "execution_count": 16,
     "metadata": {},
     "output_type": "execute_result"
    }
   ],
   "source": [
    "factorial(12)"
   ]
  },
  {
   "cell_type": "markdown",
   "id": "05b5fd00",
   "metadata": {},
   "source": [
    "## task 5"
   ]
  },
  {
   "cell_type": "code",
   "execution_count": 8,
   "id": "dca917d1",
   "metadata": {},
   "outputs": [
    {
     "name": "stdout",
     "output_type": "stream",
     "text": [
      "The reversed string is: rimaa si eman ym\n"
     ]
    }
   ],
   "source": [
    "# reverse a string\n",
    "\n",
    "string = \"my name is aamir\"\n",
    "\n",
    "reversed_string = string[::-1]\n",
    "\n",
    "print(f\"The reversed string is: {reversed_string}\")\n"
   ]
  },
  {
   "cell_type": "markdown",
   "id": "c60c4789",
   "metadata": {},
   "source": [
    "## task 6"
   ]
  },
  {
   "cell_type": "code",
   "execution_count": 10,
   "id": "2eef6e48",
   "metadata": {},
   "outputs": [
    {
     "name": "stdout",
     "output_type": "stream",
     "text": [
      "t\n",
      "h\n",
      "i\n",
      "s\n",
      " \n",
      "i\n",
      "s\n",
      " \n",
      "a\n",
      " \n",
      "s\n",
      "t\n",
      "r\n",
      "i\n",
      "n\n",
      "g\n"
     ]
    }
   ],
   "source": [
    "# print each char of string in a new line \n",
    "\n",
    "string = \"this is a string\"\n",
    "\n",
    "for char in string:\n",
    "    print(char)"
   ]
  },
  {
   "cell_type": "markdown",
   "id": "407d9f44",
   "metadata": {},
   "source": [
    "## task 7"
   ]
  },
  {
   "cell_type": "code",
   "execution_count": 18,
   "id": "00ebc858",
   "metadata": {},
   "outputs": [
    {
     "name": "stdout",
     "output_type": "stream",
     "text": [
      "24 number is even\n"
     ]
    }
   ],
   "source": [
    "n= 24\n",
    "\n",
    "if n%2==0:\n",
    "    print(f\"{n} number is even\")\n",
    "else:\n",
    "    print(f\"{n} number is odd\")\n",
    "    "
   ]
  },
  {
   "cell_type": "markdown",
   "id": "7fe0a47a",
   "metadata": {},
   "source": [
    "## task 8"
   ]
  },
  {
   "cell_type": "code",
   "execution_count": 13,
   "id": "db626176",
   "metadata": {},
   "outputs": [
    {
     "name": "stdout",
     "output_type": "stream",
     "text": [
      "eligible to vote\n"
     ]
    }
   ],
   "source": [
    "age = 30\n",
    "\n",
    "if age > 18:\n",
    "    print(\"eligible to vote\")\n",
    "else:\n",
    "    print(\"not eligible\")"
   ]
  },
  {
   "cell_type": "markdown",
   "id": "85c1c3f4",
   "metadata": {},
   "source": [
    "# end all the tasks"
   ]
  },
  {
   "cell_type": "code",
   "execution_count": null,
   "id": "8596b8b0",
   "metadata": {},
   "outputs": [],
   "source": [
    "|"
   ]
  }
 ],
 "metadata": {
  "kernelspec": {
   "display_name": "Python 3 (ipykernel)",
   "language": "python",
   "name": "python3"
  },
  "language_info": {
   "codemirror_mode": {
    "name": "ipython",
    "version": 3
   },
   "file_extension": ".py",
   "mimetype": "text/x-python",
   "name": "python",
   "nbconvert_exporter": "python",
   "pygments_lexer": "ipython3",
   "version": "3.11.3"
  }
 },
 "nbformat": 4,
 "nbformat_minor": 5
}
