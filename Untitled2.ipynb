{
 "cells": [
  {
   "cell_type": "code",
   "execution_count": 8,
   "id": "69b82d3d",
   "metadata": {},
   "outputs": [],
   "source": [
    "class teacher:\n",
    "    def __init__(self,name):\n",
    "        self.name = name \n",
    "        self.student = []\n",
    "        \n",
    "    def add_std(self,student):\n",
    "        self.student.append(student)"
   ]
  },
  {
   "cell_type": "code",
   "execution_count": 9,
   "id": "ac0a2b1d",
   "metadata": {},
   "outputs": [],
   "source": [
    "class student:\n",
    "    def __init__(self, name):\n",
    "        self.name = name \n",
    "        "
   ]
  },
  {
   "cell_type": "code",
   "execution_count": 10,
   "id": "b3dc39e9",
   "metadata": {},
   "outputs": [],
   "source": [
    "teacher = teacher(\"Aamir Jamil\")"
   ]
  },
  {
   "cell_type": "code",
   "execution_count": 11,
   "id": "17ce6dd4",
   "metadata": {},
   "outputs": [],
   "source": [
    "student1 = student(\"sidra\")\n",
    "student2 = student(\"another sidra\")"
   ]
  },
  {
   "cell_type": "code",
   "execution_count": 13,
   "id": "8a4c250c",
   "metadata": {},
   "outputs": [],
   "source": [
    "teacher.add_std(student1)\n",
    "teacher.add_std(student2)"
   ]
  },
  {
   "cell_type": "code",
   "execution_count": 14,
   "id": "9f360e32",
   "metadata": {},
   "outputs": [
    {
     "name": "stdout",
     "output_type": "stream",
     "text": [
      "Python 3.11.3\n"
     ]
    }
   ],
   "source": [
    "print(f\"\")"
   ]
  },
  {
   "cell_type": "code",
   "execution_count": null,
   "id": "b9477d02",
   "metadata": {},
   "outputs": [],
   "source": []
  }
 ],
 "metadata": {
  "kernelspec": {
   "display_name": "Python 3 (ipykernel)",
   "language": "python",
   "name": "python3"
  },
  "language_info": {
   "codemirror_mode": {
    "name": "ipython",
    "version": 3
   },
   "file_extension": ".py",
   "mimetype": "text/x-python",
   "name": "python",
   "nbconvert_exporter": "python",
   "pygments_lexer": "ipython3",
   "version": "3.11.3"
  }
 },
 "nbformat": 4,
 "nbformat_minor": 5
}
