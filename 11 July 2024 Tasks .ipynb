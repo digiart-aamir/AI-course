{
 "cells": [
  {
   "cell_type": "markdown",
   "id": "8b0659c0",
   "metadata": {},
   "source": [
    "# Daily Tasks "
   ]
  },
  {
   "cell_type": "markdown",
   "id": "16ee280a",
   "metadata": {},
   "source": [
    "### print current time stamp"
   ]
  },
  {
   "cell_type": "code",
   "execution_count": 2,
   "id": "6bf28cf9",
   "metadata": {},
   "outputs": [
    {
     "name": "stdout",
     "output_type": "stream",
     "text": [
      "2024-07-11 15:08:35.339293\n"
     ]
    }
   ],
   "source": [
    "from datetime import datetime\n",
    "\n",
    "current_datetime = datetime.now()\n",
    "print(current_datetime)"
   ]
  },
  {
   "cell_type": "markdown",
   "id": "f22487f5",
   "metadata": {},
   "source": [
    "## task 1"
   ]
  },
  {
   "cell_type": "code",
   "execution_count": 7,
   "id": "2c9503b7",
   "metadata": {},
   "outputs": [],
   "source": [
    "def common_characters(str1, str2):\n",
    "    set1 = set(str1)\n",
    "    set2= set(str2)\n",
    "    return set2.intersection(set1)"
   ]
  },
  {
   "cell_type": "code",
   "execution_count": 8,
   "id": "68526e56",
   "metadata": {},
   "outputs": [],
   "source": [
    "name = \"aamir\"\n",
    "fname = \"jamil\""
   ]
  },
  {
   "cell_type": "code",
   "execution_count": 9,
   "id": "34b0bb38",
   "metadata": {},
   "outputs": [
    {
     "data": {
      "text/plain": [
       "{'a', 'i', 'm'}"
      ]
     },
     "execution_count": 9,
     "metadata": {},
     "output_type": "execute_result"
    }
   ],
   "source": [
    "common_characters(name, fname)"
   ]
  },
  {
   "cell_type": "markdown",
   "id": "31c0a038",
   "metadata": {},
   "source": [
    "## task 2"
   ]
  },
  {
   "cell_type": "code",
   "execution_count": 10,
   "id": "5c6140ea",
   "metadata": {},
   "outputs": [],
   "source": [
    "def remove_dup(list1):\n",
    "    set1 = set(list1)\n",
    "    list1= list(set1)\n",
    "    return list1"
   ]
  },
  {
   "cell_type": "code",
   "execution_count": 11,
   "id": "70aaa1f6",
   "metadata": {},
   "outputs": [],
   "source": [
    "num = [1,2,3,4,45,5,34,3,3,3,3,3,4]"
   ]
  },
  {
   "cell_type": "code",
   "execution_count": 13,
   "id": "ee560221",
   "metadata": {},
   "outputs": [
    {
     "data": {
      "text/plain": [
       "[1, 2, 3, 4, 5, 34, 45]"
      ]
     },
     "execution_count": 13,
     "metadata": {},
     "output_type": "execute_result"
    }
   ],
   "source": [
    "remove_dup(num)"
   ]
  },
  {
   "cell_type": "markdown",
   "id": "2039b707",
   "metadata": {},
   "source": [
    "## task 3"
   ]
  },
  {
   "cell_type": "code",
   "execution_count": 16,
   "id": "3b19da08",
   "metadata": {},
   "outputs": [],
   "source": [
    "def are_anagrams(str1, str2):\n",
    "    if set(str1.lower()) == set(str2.lower()) and len(str1) == len(str2):\n",
    "        return True\n",
    "    return False"
   ]
  },
  {
   "cell_type": "code",
   "execution_count": 17,
   "id": "ae403791",
   "metadata": {},
   "outputs": [],
   "source": [
    "str1 = \"aamir1\"\n",
    "str2 = \"1amira\""
   ]
  },
  {
   "cell_type": "code",
   "execution_count": 19,
   "id": "cc1a4d3b",
   "metadata": {},
   "outputs": [
    {
     "data": {
      "text/plain": [
       "True"
      ]
     },
     "execution_count": 19,
     "metadata": {},
     "output_type": "execute_result"
    }
   ],
   "source": [
    "are_anagrams(str1, str2)"
   ]
  },
  {
   "cell_type": "markdown",
   "id": "534d9f03",
   "metadata": {},
   "source": [
    "## task 4"
   ]
  },
  {
   "cell_type": "code",
   "execution_count": 21,
   "id": "da70a7b3",
   "metadata": {},
   "outputs": [],
   "source": [
    "def find_missing_elements(list1, list2):\n",
    "    return set(list1) - set(list2)"
   ]
  },
  {
   "cell_type": "code",
   "execution_count": 22,
   "id": "c872fdb5",
   "metadata": {},
   "outputs": [],
   "source": [
    "list1 = [1,2,3,4,5]\n",
    "list2=[3,4,5,6]"
   ]
  },
  {
   "cell_type": "code",
   "execution_count": 23,
   "id": "9bfc9e7e",
   "metadata": {},
   "outputs": [
    {
     "data": {
      "text/plain": [
       "{1, 2}"
      ]
     },
     "execution_count": 23,
     "metadata": {},
     "output_type": "execute_result"
    }
   ],
   "source": [
    "find_missing_elements(list1,list2)"
   ]
  },
  {
   "cell_type": "markdown",
   "id": "beb35e4a",
   "metadata": {},
   "source": [
    "## task 5"
   ]
  },
  {
   "cell_type": "code",
   "execution_count": 24,
   "id": "a85bb001",
   "metadata": {},
   "outputs": [],
   "source": [
    "def are_disjoint(set1, set2):\n",
    "    return set1.isdisjoint(set2)"
   ]
  },
  {
   "cell_type": "code",
   "execution_count": 25,
   "id": "83a92c17",
   "metadata": {},
   "outputs": [],
   "source": [
    "set1 = {1,2,3,4}\n",
    "set2={5,6,7,8}"
   ]
  },
  {
   "cell_type": "code",
   "execution_count": 26,
   "id": "2980fa0b",
   "metadata": {},
   "outputs": [
    {
     "data": {
      "text/plain": [
       "True"
      ]
     },
     "execution_count": 26,
     "metadata": {},
     "output_type": "execute_result"
    }
   ],
   "source": [
    "are_disjoint(set1, set2)"
   ]
  },
  {
   "cell_type": "markdown",
   "id": "4a674fce",
   "metadata": {},
   "source": [
    "## task 6"
   ]
  },
  {
   "cell_type": "code",
   "execution_count": 28,
   "id": "b75642a0",
   "metadata": {},
   "outputs": [],
   "source": [
    "def union_of_sets(set1, set2):\n",
    "    return set1.union(set2)"
   ]
  },
  {
   "cell_type": "code",
   "execution_count": 29,
   "id": "6878f7b9",
   "metadata": {},
   "outputs": [],
   "source": [
    "set1 = {1,2,3,4}\n",
    "set2={5,6,7,8}"
   ]
  },
  {
   "cell_type": "code",
   "execution_count": 30,
   "id": "6c83796b",
   "metadata": {},
   "outputs": [
    {
     "data": {
      "text/plain": [
       "{1, 2, 3, 4, 5, 6, 7, 8}"
      ]
     },
     "execution_count": 30,
     "metadata": {},
     "output_type": "execute_result"
    }
   ],
   "source": [
    "union_of_sets(set1, set2)"
   ]
  },
  {
   "cell_type": "markdown",
   "id": "e4acd7f8",
   "metadata": {},
   "source": [
    "## task 7"
   ]
  },
  {
   "cell_type": "code",
   "execution_count": 31,
   "id": "89cb3a17",
   "metadata": {},
   "outputs": [],
   "source": [
    "def is_subset(set1, set2):\n",
    "    return set1.issubset(set2)"
   ]
  },
  {
   "cell_type": "code",
   "execution_count": 32,
   "id": "966eeceb",
   "metadata": {},
   "outputs": [],
   "source": [
    "set1 = {1,2,3,4}\n",
    "set2={5,6,7,8}"
   ]
  },
  {
   "cell_type": "code",
   "execution_count": 34,
   "id": "eba06e8d",
   "metadata": {},
   "outputs": [
    {
     "data": {
      "text/plain": [
       "False"
      ]
     },
     "execution_count": 34,
     "metadata": {},
     "output_type": "execute_result"
    }
   ],
   "source": [
    "is_subset(set1, set2)"
   ]
  },
  {
   "cell_type": "markdown",
   "id": "58b538b0",
   "metadata": {},
   "source": [
    "# end of all the tasks"
   ]
  },
  {
   "cell_type": "code",
   "execution_count": null,
   "id": "3254a67e",
   "metadata": {},
   "outputs": [],
   "source": []
  }
 ],
 "metadata": {
  "kernelspec": {
   "display_name": "Python 3 (ipykernel)",
   "language": "python",
   "name": "python3"
  },
  "language_info": {
   "codemirror_mode": {
    "name": "ipython",
    "version": 3
   },
   "file_extension": ".py",
   "mimetype": "text/x-python",
   "name": "python",
   "nbconvert_exporter": "python",
   "pygments_lexer": "ipython3",
   "version": "3.11.3"
  }
 },
 "nbformat": 4,
 "nbformat_minor": 5
}
