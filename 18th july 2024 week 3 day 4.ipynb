{
 "cells": [
  {
   "cell_type": "code",
   "execution_count": 5,
   "id": "6d554fc0",
   "metadata": {},
   "outputs": [
    {
     "name": "stdout",
     "output_type": "stream",
     "text": [
      "today: Thu Jul 18 14:41:09 2024\n"
     ]
    }
   ],
   "source": [
    "import time\n",
    "print(f\"today: {time.asctime()}\")"
   ]
  },
  {
   "cell_type": "markdown",
   "id": "4781ef98",
   "metadata": {},
   "source": [
    "<h1>Daily Task</h1>"
   ]
  },
  {
   "cell_type": "markdown",
   "id": "6d13ecf5",
   "metadata": {},
   "source": [
    "## task 1 "
   ]
  },
  {
   "cell_type": "code",
   "execution_count": 14,
   "id": "07adac27",
   "metadata": {},
   "outputs": [
    {
     "name": "stdout",
     "output_type": "stream",
     "text": [
      "area of rectangle is 210\n"
     ]
    }
   ],
   "source": [
    "#Write a Python script that calculates the area of a rectangle. Add comments to explain each part of the code.\n",
    "\n",
    "# define a funtion to calculate area\n",
    "def area(l,w):\n",
    "    return l*w\n",
    "\n",
    "# initaite the variable \n",
    "l = 10 # length \n",
    "w = 21 # width \n",
    "\n",
    "# call the function \n",
    "\n",
    "print(f\"area of rectangle is {area(l,w)}\")"
   ]
  },
  {
   "cell_type": "markdown",
   "id": "ea96dc57",
   "metadata": {},
   "source": [
    "## task 2"
   ]
  },
  {
   "cell_type": "code",
   "execution_count": 15,
   "id": "1207efff",
   "metadata": {},
   "outputs": [
    {
     "name": "stdout",
     "output_type": "stream",
     "text": [
      "0\n",
      "1\n",
      "2\n",
      "4\n"
     ]
    }
   ],
   "source": [
    "# Write a loop that prints numbers from 1 to 10.\n",
    "#Use break to stop the loop if the number is 5, and use continue to skip the number 3.\n",
    "\n",
    "for i in range(11):\n",
    "    if i ==3:\n",
    "        continue \n",
    "    if i==5:\n",
    "        break\n",
    "        \n",
    "    print (i)"
   ]
  },
  {
   "cell_type": "markdown",
   "id": "73f1af10",
   "metadata": {},
   "source": [
    "## task 3"
   ]
  },
  {
   "cell_type": "code",
   "execution_count": 32,
   "id": "6fa8a429",
   "metadata": {},
   "outputs": [
    {
     "name": "stdout",
     "output_type": "stream",
     "text": [
      "The number is positive and odd.\n"
     ]
    }
   ],
   "source": [
    "# This script checks if a number is positive, negative, or zero\n",
    "\n",
    "def check_number(num):\n",
    "    if num > 0:\n",
    "        if num % 2 == 0:\n",
    "            print(\"The number is positive and even.\")\n",
    "        else:\n",
    "            print(\"The number is positive and odd.\")\n",
    "    elif num < 0:\n",
    "        print(\"The number is negative.\")\n",
    "    else:\n",
    "        print(\"The number is zero.\")\n",
    "\n",
    "# Number to check\n",
    "number = 7\n",
    "\n",
    "# Check the number\n",
    "check_number(number)"
   ]
  },
  {
   "cell_type": "markdown",
   "id": "4f1d8013",
   "metadata": {},
   "source": [
    "## task 4"
   ]
  },
  {
   "cell_type": "code",
   "execution_count": 18,
   "id": "c9857beb",
   "metadata": {},
   "outputs": [
    {
     "name": "stdout",
     "output_type": "stream",
     "text": [
      "The person is eligible to vote\n"
     ]
    }
   ],
   "source": [
    "# Write a Python script that uses a ternary expression to determine if a person is eligible to vote based on their age.\n",
    "\n",
    "\n",
    "# Age of the person\n",
    "age = 18\n",
    "\n",
    "# Check eligibility using a ternary expression\n",
    "eligibility = \"eligible to vote\" if age >= 18 else \"not eligible to vote\"\n",
    "\n",
    "# Print eligibility\n",
    "print(\"The person is\", eligibility)\n"
   ]
  },
  {
   "cell_type": "markdown",
   "id": "8c0fbc41",
   "metadata": {},
   "source": [
    "## task 5"
   ]
  },
  {
   "cell_type": "code",
   "execution_count": 19,
   "id": "38a0d945",
   "metadata": {},
   "outputs": [
    {
     "name": "stdout",
     "output_type": "stream",
     "text": [
      "1\n",
      "2\n",
      "3\n",
      "4\n",
      "5\n"
     ]
    }
   ],
   "source": [
    "# Write a while loop that prints the numbers from 1 to 5. \n",
    "#Then, write a for loop that prints the elements of a list with their indexes using enumerate.\n",
    "\n",
    "\n",
    "i = 1\n",
    "while i <= 5:\n",
    "    print(i)\n",
    "    i += 1\n"
   ]
  },
  {
   "cell_type": "code",
   "execution_count": 20,
   "id": "cce591d1",
   "metadata": {},
   "outputs": [
    {
     "name": "stdout",
     "output_type": "stream",
     "text": [
      "Index: 0, Element: a\n",
      "Index: 1, Element: b\n",
      "Index: 2, Element: c\n",
      "Index: 3, Element: d\n"
     ]
    }
   ],
   "source": [
    "elements = ['a', 'b', 'c', 'd']\n",
    "\n",
    "for index, element in enumerate(elements):\n",
    "    print(f\"Index: {index}, Element: {element}\")"
   ]
  },
  {
   "cell_type": "markdown",
   "id": "a8f19b41",
   "metadata": {},
   "source": [
    "## task 6"
   ]
  },
  {
   "cell_type": "code",
   "execution_count": 21,
   "id": "534063a1",
   "metadata": {},
   "outputs": [
    {
     "name": "stdout",
     "output_type": "stream",
     "text": [
      "(0, 0) (0, 1) (0, 2) \n",
      "(1, 0) (1, 1) (1, 2) \n",
      "(2, 0) (2, 1) (2, 2) \n"
     ]
    }
   ],
   "source": [
    "rows = 3\n",
    "cols = 3\n",
    "\n",
    "\n",
    "for i in range(rows):\n",
    "    for j in range(cols):\n",
    "        print(f\"({i}, {j})\", end=\" \")\n",
    "    print()\n"
   ]
  },
  {
   "cell_type": "markdown",
   "id": "a0ed583d",
   "metadata": {},
   "source": [
    "## task 7"
   ]
  },
  {
   "cell_type": "code",
   "execution_count": 22,
   "id": "2fb016f2",
   "metadata": {},
   "outputs": [
    {
     "name": "stdout",
     "output_type": "stream",
     "text": [
      "List of squares: [1, 4, 9, 16, 25, 36, 49, 64, 81, 100]\n"
     ]
    }
   ],
   "source": [
    "squares = [x**2 for x in range(1, 11)]\n",
    "\n",
    "print(\"List of squares:\", squares)"
   ]
  },
  {
   "cell_type": "markdown",
   "id": "3a6c2875",
   "metadata": {},
   "source": [
    "## task 8"
   ]
  },
  {
   "cell_type": "code",
   "execution_count": 23,
   "id": "38127d24",
   "metadata": {},
   "outputs": [
    {
     "name": "stdout",
     "output_type": "stream",
     "text": [
      "1\n",
      "2\n",
      "3\n",
      "4\n",
      "5\n"
     ]
    }
   ],
   "source": [
    "numbers = [1, 2, 3, 4, 5]\n",
    "\n",
    "numbers_iterator = iter(numbers)\n",
    "\n",
    "print(next(numbers_iterator))\n",
    "print(next(numbers_iterator))\n",
    "print(next(numbers_iterator))\n",
    "print(next(numbers_iterator))\n",
    "print(next(numbers_iterator))\n"
   ]
  },
  {
   "cell_type": "markdown",
   "id": "38584798",
   "metadata": {},
   "source": [
    "## task 9"
   ]
  },
  {
   "cell_type": "code",
   "execution_count": 26,
   "id": "65d11d50",
   "metadata": {},
   "outputs": [
    {
     "name": "stdout",
     "output_type": "stream",
     "text": [
      "Temperatures in Fahrenheit: [32.0, 68.0, 98.6, 212.0]\n"
     ]
    }
   ],
   "source": [
    "def celsius_to_fahrenheit(celsius):\n",
    "    return (celsius * 9/5) + 32\n",
    "\n",
    "celsius_temps = [0, 20, 37, 100]\n",
    "\n",
    "print(f\"Temperatures in Fahrenheit: {list(map(celsius_to_fahrenheit, celsius_temps))}\")"
   ]
  },
  {
   "cell_type": "markdown",
   "id": "ac3162be",
   "metadata": {},
   "source": [
    "## task 10"
   ]
  },
  {
   "cell_type": "code",
   "execution_count": 28,
   "id": "c60a6917",
   "metadata": {},
   "outputs": [
    {
     "name": "stdout",
     "output_type": "stream",
     "text": [
      "1\n",
      "2\n",
      "3\n",
      "5\n",
      "6\n",
      "7\n",
      "8\n"
     ]
    }
   ],
   "source": [
    "for i in range(1, 11):\n",
    "    if i > 8:\n",
    "        break\n",
    "    if i ==4:\n",
    "        continue\n",
    "    print(i)\n"
   ]
  },
  {
   "cell_type": "markdown",
   "id": "ae35441c",
   "metadata": {},
   "source": [
    ">>>> # eND oF tASKS"
   ]
  },
  {
   "cell_type": "code",
   "execution_count": null,
   "id": "f92b647a",
   "metadata": {},
   "outputs": [],
   "source": []
  }
 ],
 "metadata": {
  "kernelspec": {
   "display_name": "Python 3 (ipykernel)",
   "language": "python",
   "name": "python3"
  },
  "language_info": {
   "codemirror_mode": {
    "name": "ipython",
    "version": 3
   },
   "file_extension": ".py",
   "mimetype": "text/x-python",
   "name": "python",
   "nbconvert_exporter": "python",
   "pygments_lexer": "ipython3",
   "version": "3.11.3"
  }
 },
 "nbformat": 4,
 "nbformat_minor": 5
}
