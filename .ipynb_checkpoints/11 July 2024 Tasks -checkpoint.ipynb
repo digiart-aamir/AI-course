{
 "cells": [
  {
   "cell_type": "markdown",
   "id": "21160a33",
   "metadata": {},
   "source": [
    "# Daily Tasks "
   ]
  },
  {
   "cell_type": "code",
   "execution_count": 2,
   "id": "9a5c8d41",
   "metadata": {},
   "outputs": [
    {
     "name": "stdout",
     "output_type": "stream",
     "text": [
      "2024-07-11 15:08:35.339293\n"
     ]
    }
   ],
   "source": [
    "from datetime import datetime\n",
    "\n",
    "current_datetime = datetime.now()\n",
    "print(current_datetime)"
   ]
  },
  {
   "cell_type": "markdown",
   "id": "00b48b36",
   "metadata": {},
   "source": [
    "## task 1"
   ]
  },
  {
   "cell_type": "code",
   "execution_count": 7,
   "id": "22b2eeb5",
   "metadata": {},
   "outputs": [],
   "source": [
    "def common_characters(str1, str2):\n",
    "    set1 = set(str1)\n",
    "    set2= set(str2)\n",
    "    return set2.intersection(set1)"
   ]
  },
  {
   "cell_type": "code",
   "execution_count": 8,
   "id": "62636fcc",
   "metadata": {},
   "outputs": [],
   "source": [
    "name = \"aamir\"\n",
    "fname = \"jamil\""
   ]
  },
  {
   "cell_type": "code",
   "execution_count": 9,
   "id": "4a6a842c",
   "metadata": {},
   "outputs": [
    {
     "data": {
      "text/plain": [
       "{'a', 'i', 'm'}"
      ]
     },
     "execution_count": 9,
     "metadata": {},
     "output_type": "execute_result"
    }
   ],
   "source": [
    "common_characters(name, fname)"
   ]
  },
  {
   "cell_type": "markdown",
   "id": "29622258",
   "metadata": {},
   "source": [
    "## task 2"
   ]
  },
  {
   "cell_type": "code",
   "execution_count": 10,
   "id": "ee49fa4f",
   "metadata": {},
   "outputs": [],
   "source": [
    "def remove_dup(list1):\n",
    "    set1 = set(list1)\n",
    "    list1= list(set1)\n",
    "    return list1"
   ]
  },
  {
   "cell_type": "code",
   "execution_count": 11,
   "id": "37dc0deb",
   "metadata": {},
   "outputs": [],
   "source": [
    "num = [1,2,3,4,45,5,34,3,3,3,3,3,4]"
   ]
  },
  {
   "cell_type": "code",
   "execution_count": 13,
   "id": "3d310f63",
   "metadata": {},
   "outputs": [
    {
     "data": {
      "text/plain": [
       "[1, 2, 3, 4, 5, 34, 45]"
      ]
     },
     "execution_count": 13,
     "metadata": {},
     "output_type": "execute_result"
    }
   ],
   "source": [
    "remove_dup(num)"
   ]
  },
  {
   "cell_type": "markdown",
   "id": "768b317c",
   "metadata": {},
   "source": [
    "## task 3"
   ]
  },
  {
   "cell_type": "code",
   "execution_count": 16,
   "id": "58fdb987",
   "metadata": {},
   "outputs": [],
   "source": [
    "def are_anagrams(str1, str2):\n",
    "    if set(str1.lower()) == set(str2.lower()) and len(str1) == len(str2):\n",
    "        return True\n",
    "    return False"
   ]
  },
  {
   "cell_type": "code",
   "execution_count": 17,
   "id": "30851bc4",
   "metadata": {},
   "outputs": [],
   "source": [
    "str1 = \"aamir1\"\n",
    "str2 = \"1amira\""
   ]
  },
  {
   "cell_type": "code",
   "execution_count": 19,
   "id": "4fe04f27",
   "metadata": {},
   "outputs": [
    {
     "data": {
      "text/plain": [
       "True"
      ]
     },
     "execution_count": 19,
     "metadata": {},
     "output_type": "execute_result"
    }
   ],
   "source": [
    "are_anagrams(str1, str2)"
   ]
  },
  {
   "cell_type": "markdown",
   "id": "de5437dc",
   "metadata": {},
   "source": [
    "## task 4"
   ]
  },
  {
   "cell_type": "code",
   "execution_count": 21,
   "id": "cff53e7c",
   "metadata": {},
   "outputs": [],
   "source": [
    "def find_missing_elements(list1, list2):\n",
    "    return set(list1) - set(list2)"
   ]
  },
  {
   "cell_type": "code",
   "execution_count": 22,
   "id": "5cb57ca0",
   "metadata": {},
   "outputs": [],
   "source": [
    "list1 = [1,2,3,4,5]\n",
    "list2=[3,4,5,6]"
   ]
  },
  {
   "cell_type": "code",
   "execution_count": 23,
   "id": "baff4792",
   "metadata": {},
   "outputs": [
    {
     "data": {
      "text/plain": [
       "{1, 2}"
      ]
     },
     "execution_count": 23,
     "metadata": {},
     "output_type": "execute_result"
    }
   ],
   "source": [
    "find_missing_elements(list1,list2)"
   ]
  },
  {
   "cell_type": "markdown",
   "id": "b94d2dd4",
   "metadata": {},
   "source": [
    "## task 5"
   ]
  },
  {
   "cell_type": "code",
   "execution_count": 24,
   "id": "f4b16a3e",
   "metadata": {},
   "outputs": [],
   "source": [
    "def are_disjoint(set1, set2):\n",
    "    return set1.isdisjoint(set2)"
   ]
  },
  {
   "cell_type": "code",
   "execution_count": 25,
   "id": "4709210c",
   "metadata": {},
   "outputs": [],
   "source": [
    "set1 = {1,2,3,4}\n",
    "set2={5,6,7,8}"
   ]
  },
  {
   "cell_type": "code",
   "execution_count": 26,
   "id": "bbc197f9",
   "metadata": {},
   "outputs": [
    {
     "data": {
      "text/plain": [
       "True"
      ]
     },
     "execution_count": 26,
     "metadata": {},
     "output_type": "execute_result"
    }
   ],
   "source": [
    "are_disjoint(set1, set2)"
   ]
  },
  {
   "cell_type": "markdown",
   "id": "7316ec15",
   "metadata": {},
   "source": [
    "## task 6"
   ]
  },
  {
   "cell_type": "code",
   "execution_count": 28,
   "id": "7c6f693c",
   "metadata": {},
   "outputs": [],
   "source": [
    "def union_of_sets(set1, set2):\n",
    "    return set1.union(set2)"
   ]
  },
  {
   "cell_type": "code",
   "execution_count": 29,
   "id": "ec86c256",
   "metadata": {},
   "outputs": [],
   "source": [
    "set1 = {1,2,3,4}\n",
    "set2={5,6,7,8}"
   ]
  },
  {
   "cell_type": "code",
   "execution_count": 30,
   "id": "144051bc",
   "metadata": {},
   "outputs": [
    {
     "data": {
      "text/plain": [
       "{1, 2, 3, 4, 5, 6, 7, 8}"
      ]
     },
     "execution_count": 30,
     "metadata": {},
     "output_type": "execute_result"
    }
   ],
   "source": [
    "union_of_sets(set1, set2)"
   ]
  },
  {
   "cell_type": "markdown",
   "id": "51afd52a",
   "metadata": {},
   "source": [
    "## task 7"
   ]
  },
  {
   "cell_type": "code",
   "execution_count": 31,
   "id": "ec7ed631",
   "metadata": {},
   "outputs": [],
   "source": [
    "def is_subset(set1, set2):\n",
    "    return set1.issubset(set2)"
   ]
  },
  {
   "cell_type": "code",
   "execution_count": 32,
   "id": "feb61c81",
   "metadata": {},
   "outputs": [],
   "source": [
    "set1 = {1,2,3,4}\n",
    "set2={5,6,7,8}"
   ]
  },
  {
   "cell_type": "code",
   "execution_count": 34,
   "id": "ec26c557",
   "metadata": {},
   "outputs": [
    {
     "data": {
      "text/plain": [
       "False"
      ]
     },
     "execution_count": 34,
     "metadata": {},
     "output_type": "execute_result"
    }
   ],
   "source": [
    "is_subset(set1, set2)"
   ]
  },
  {
   "cell_type": "code",
   "execution_count": null,
   "id": "41725fca",
   "metadata": {},
   "outputs": [],
   "source": []
  },
  {
   "cell_type": "code",
   "execution_count": null,
   "id": "7781b772",
   "metadata": {},
   "outputs": [],
   "source": [
    "# end of all the task "
   ]
  }
 ],
 "metadata": {
  "kernelspec": {
   "display_name": "Python 3 (ipykernel)",
   "language": "python",
   "name": "python3"
  },
  "language_info": {
   "codemirror_mode": {
    "name": "ipython",
    "version": 3
   },
   "file_extension": ".py",
   "mimetype": "text/x-python",
   "name": "python",
   "nbconvert_exporter": "python",
   "pygments_lexer": "ipython3",
   "version": "3.11.3"
  }
 },
 "nbformat": 4,
 "nbformat_minor": 5
}
