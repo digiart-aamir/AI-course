{
 "cells": [
  {
   "cell_type": "markdown",
   "id": "0ed3f995",
   "metadata": {},
   "source": [
    "# Tasks 10th of july \n",
    "\n",
    ">>>> by Aamir Jamil"
   ]
  },
  {
   "cell_type": "markdown",
   "id": "57bb486b",
   "metadata": {},
   "source": [
    "## task 1"
   ]
  },
  {
   "cell_type": "code",
   "execution_count": 40,
   "id": "ead7f806",
   "metadata": {},
   "outputs": [],
   "source": [
    "# 1. Create a list of your favorite movies\n",
    "movies = [\"Transformer\", \"Inception\", \"The Matrix\", \"Pulp Fiction\"]"
   ]
  },
  {
   "cell_type": "code",
   "execution_count": 41,
   "id": "3e08f19f",
   "metadata": {},
   "outputs": [],
   "source": [
    "# 2. Add a new movie to the end of the list\n",
    "movies.append(\"Interstellar\")\n"
   ]
  },
  {
   "cell_type": "code",
   "execution_count": 42,
   "id": "3dcfc296",
   "metadata": {},
   "outputs": [],
   "source": [
    "# 3. Remove the second movie from the list\n",
    "del movies[1]\n"
   ]
  },
  {
   "cell_type": "code",
   "execution_count": 43,
   "id": "915399fd",
   "metadata": {},
   "outputs": [
    {
     "name": "stdout",
     "output_type": "stream",
     "text": [
      "Final movie list: ['Transformer', 'The Matrix', 'Pulp Fiction', 'Interstellar']\n"
     ]
    }
   ],
   "source": [
    "# 4. Print the final list\n",
    "print(\"Final movie list:\", movies)"
   ]
  },
  {
   "cell_type": "markdown",
   "id": "59370add",
   "metadata": {},
   "source": [
    "## task 2"
   ]
  },
  {
   "cell_type": "code",
   "execution_count": 28,
   "id": "598e7e96",
   "metadata": {},
   "outputs": [
    {
     "name": "stdout",
     "output_type": "stream",
     "text": [
      "Third country: Brazil\n"
     ]
    }
   ],
   "source": [
    "# 1. Create a tuple containing the names of five different countries\n",
    "countries = (\"France\", \"Japan\", \"Brazil\", \"Canada\", \"Australia\")\n",
    "\n",
    "# 2. Print the name of the third country in the tuple\n",
    "print(\"Third country:\", countries[2])"
   ]
  },
  {
   "cell_type": "code",
   "execution_count": 29,
   "id": "68b1b225",
   "metadata": {},
   "outputs": [
    {
     "name": "stdout",
     "output_type": "stream",
     "text": [
      "Error: 'tuple' object does not support item assignment\n"
     ]
    }
   ],
   "source": [
    "# 3. Attempt to change the name of the second country (this will raise an error)\n",
    "try:\n",
    "    countries[1] = \"Germany\"\n",
    "except TypeError as e:\n",
    "    print(\"Error:\", e)"
   ]
  },
  {
   "cell_type": "markdown",
   "id": "0dadb5e8",
   "metadata": {},
   "source": [
    "## task 3"
   ]
  },
  {
   "cell_type": "code",
   "execution_count": 30,
   "id": "8e36b728",
   "metadata": {},
   "outputs": [],
   "source": [
    "# 1. Create a dictionary to store information about a book\n",
    "book = {\n",
    "    \"title\": \"To Kill a Mockingbird\",\n",
    "    \"author\": \"Harper Lee\",\n",
    "    \"year\": 1960\n",
    "}\n"
   ]
  },
  {
   "cell_type": "code",
   "execution_count": 31,
   "id": "529d5bee",
   "metadata": {},
   "outputs": [],
   "source": [
    "# 2. Add a new key-value pair for the genre of the book\n",
    "book[\"genre\"] = \"Fiction\""
   ]
  },
  {
   "cell_type": "code",
   "execution_count": 32,
   "id": "cd9e9f0f",
   "metadata": {},
   "outputs": [],
   "source": [
    "# 3. Update the year of publication\n",
    "book[\"year\"] = 1961"
   ]
  },
  {
   "cell_type": "code",
   "execution_count": 33,
   "id": "c17e8229",
   "metadata": {},
   "outputs": [
    {
     "name": "stdout",
     "output_type": "stream",
     "text": [
      "Final book information: {'title': 'To Kill a Mockingbird', 'author': 'Harper Lee', 'year': 1961, 'genre': 'Fiction'}\n"
     ]
    }
   ],
   "source": [
    "# 4. Print the final dictionary\n",
    "print(\"Final book information:\", book)"
   ]
  },
  {
   "cell_type": "markdown",
   "id": "f69ecd46",
   "metadata": {},
   "source": [
    "## task 4 "
   ]
  },
  {
   "cell_type": "code",
   "execution_count": 34,
   "id": "253a27fe",
   "metadata": {},
   "outputs": [],
   "source": [
    "# 1. Create a dictionary with student information\n",
    "students = {\n",
    "    \"Alice\": (18, [\"Math\", \"Physics\"]),\n",
    "    \"Bob\": (19, [\"Chemistry\", \"Biology\"])\n",
    "}\n",
    "\n"
   ]
  },
  {
   "cell_type": "code",
   "execution_count": 35,
   "id": "8d986dfb",
   "metadata": {},
   "outputs": [
    {
     "name": "stdout",
     "output_type": "stream",
     "text": [
      "Final student information: {'Alice': (18, ['Math', 'Physics', 'Computer Science']), 'Bob': (19, ['Chemistry', 'Biology']), 'Charlie': (20, ['History', 'Literature'])}\n"
     ]
    }
   ],
   "source": [
    "# 2. Add a new student to the dictionary\n",
    "students[\"Charlie\"] = (20, [\"History\", \"Literature\"])\n",
    "\n",
    "# 3. Update the favorite subjects for an existing student\n",
    "students[\"Alice\"][1].append(\"Computer Science\")\n",
    "\n",
    "# 4. Print the final dictionary\n",
    "print(\"Final student information:\", students)"
   ]
  },
  {
   "cell_type": "markdown",
   "id": "4b72e341",
   "metadata": {},
   "source": [
    "## task 5"
   ]
  },
  {
   "cell_type": "code",
   "execution_count": 36,
   "id": "d7877491",
   "metadata": {},
   "outputs": [],
   "source": [
    "# 1. Create a list of numbers from 1 to 10\n",
    "numbers = [1,2,3,4,5,6,7,8,9,10]"
   ]
  },
  {
   "cell_type": "code",
   "execution_count": 37,
   "id": "87500357",
   "metadata": {},
   "outputs": [],
   "source": [
    "# 2. Find the sum of all numbers in the list\n",
    "total_sum = sum(numbers)"
   ]
  },
  {
   "cell_type": "code",
   "execution_count": 38,
   "id": "3442dce9",
   "metadata": {},
   "outputs": [],
   "source": [
    "# 3. Find the average of the numbers in the list\n",
    "average = total_sum / len(numbers)"
   ]
  },
  {
   "cell_type": "code",
   "execution_count": 39,
   "id": "587b80c0",
   "metadata": {},
   "outputs": [
    {
     "name": "stdout",
     "output_type": "stream",
     "text": [
      "Sum: 55\n",
      "Average: 5.5\n"
     ]
    }
   ],
   "source": [
    "# 4. Print the sum and average\n",
    "print(f\"Sum: {total_sum}\")\n",
    "print(f\"Average: {average}\")"
   ]
  },
  {
   "cell_type": "markdown",
   "id": "6b1ccc7b",
   "metadata": {},
   "source": [
    "## task 6"
   ]
  },
  {
   "cell_type": "code",
   "execution_count": 22,
   "id": "23dec578",
   "metadata": {},
   "outputs": [],
   "source": [
    "students_age = {\n",
    "    \"aamir\": 18,\n",
    "    \"sidra\": 19,\n",
    "    \"ali\": 20\n",
    "}\n",
    "\n"
   ]
  },
  {
   "cell_type": "code",
   "execution_count": 23,
   "id": "ff20b08d",
   "metadata": {},
   "outputs": [
    {
     "name": "stdout",
     "output_type": "stream",
     "text": [
      "sidra's age: 19\n",
      "Updated student ages: {'aamir': 18, 'sidra': 19, 'ali': 20, 'ramzan': 19}\n"
     ]
    }
   ],
   "source": [
    "print(\"sidra's age:\", students_age[\"sidra\"])\n",
    "\n",
    "\n",
    "students_age[\"ramzan\"] = 19\n",
    "\n",
    "\n",
    "print(\"Updated student ages:\", students_age)"
   ]
  },
  {
   "cell_type": "markdown",
   "id": "4b3b27a5",
   "metadata": {},
   "source": [
    "## task 7"
   ]
  },
  {
   "cell_type": "code",
   "execution_count": 18,
   "id": "8cd6e45a",
   "metadata": {},
   "outputs": [],
   "source": [
    "prime_numbers = [2, 3, 5, 7, 11, 13, 17, 19, 23, 29]"
   ]
  },
  {
   "cell_type": "code",
   "execution_count": 19,
   "id": "f24a28d9",
   "metadata": {},
   "outputs": [
    {
     "name": "stdout",
     "output_type": "stream",
     "text": [
      "First 5 prime numbers: [2, 3, 5, 7, 11]\n"
     ]
    }
   ],
   "source": [
    "print(\"First 5 prime numbers:\", prime_numbers[:5])"
   ]
  },
  {
   "cell_type": "code",
   "execution_count": 20,
   "id": "4516e031",
   "metadata": {},
   "outputs": [
    {
     "name": "stdout",
     "output_type": "stream",
     "text": [
      "Last 3 prime numbers: [19, 23, 29]\n"
     ]
    }
   ],
   "source": [
    "print(\"Last 3 prime numbers:\", prime_numbers[-3:])"
   ]
  },
  {
   "cell_type": "code",
   "execution_count": 21,
   "id": "39635137",
   "metadata": {},
   "outputs": [
    {
     "name": "stdout",
     "output_type": "stream",
     "text": [
      "Prime numbers from index 3 to 7: [7, 11, 13, 17, 19]\n"
     ]
    }
   ],
   "source": [
    "print(\"Prime numbers from index 3 to 7:\", prime_numbers[3:8])"
   ]
  },
  {
   "cell_type": "markdown",
   "id": "f7d7b51d",
   "metadata": {},
   "source": [
    "## task 8"
   ]
  },
  {
   "cell_type": "code",
   "execution_count": 14,
   "id": "43c2bfce",
   "metadata": {},
   "outputs": [
    {
     "data": {
      "text/plain": [
       "5"
      ]
     },
     "execution_count": 14,
     "metadata": {},
     "output_type": "execute_result"
    }
   ],
   "source": [
    "tup = ([1,2,3], [4,5,6], [7,8,9])\n",
    "\n",
    "#2.Access and print the second element of the second list.\n",
    "tup[1][1]"
   ]
  },
  {
   "cell_type": "code",
   "execution_count": 16,
   "id": "ed2f52dc",
   "metadata": {},
   "outputs": [],
   "source": [
    "tup[2].append(10)"
   ]
  },
  {
   "cell_type": "code",
   "execution_count": 17,
   "id": "2861c765",
   "metadata": {},
   "outputs": [
    {
     "data": {
      "text/plain": [
       "([1, 2, 3], [4, 5, 6], [7, 8, 9, 10, 10])"
      ]
     },
     "execution_count": 17,
     "metadata": {},
     "output_type": "execute_result"
    }
   ],
   "source": [
    "# Print the modified tuple.\n",
    "tup"
   ]
  },
  {
   "cell_type": "code",
   "execution_count": 44,
   "id": "bb97430a",
   "metadata": {},
   "outputs": [
    {
     "data": {
      "text/plain": [
       "15"
      ]
     },
     "execution_count": 44,
     "metadata": {},
     "output_type": "execute_result"
    }
   ],
   "source": [
    "num =[1,2,3,4,5]\n",
    "\n",
    "sum(num)\n"
   ]
  },
  {
   "cell_type": "code",
   "execution_count": null,
   "id": "5dacba92",
   "metadata": {},
   "outputs": [],
   "source": []
  }
 ],
 "metadata": {
  "kernelspec": {
   "display_name": "Python 3 (ipykernel)",
   "language": "python",
   "name": "python3"
  },
  "language_info": {
   "codemirror_mode": {
    "name": "ipython",
    "version": 3
   },
   "file_extension": ".py",
   "mimetype": "text/x-python",
   "name": "python",
   "nbconvert_exporter": "python",
   "pygments_lexer": "ipython3",
   "version": "3.11.3"
  }
 },
 "nbformat": 4,
 "nbformat_minor": 5
}
